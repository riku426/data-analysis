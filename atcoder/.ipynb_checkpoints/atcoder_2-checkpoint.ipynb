{
 "cells": [
  {
   "cell_type": "code",
   "execution_count": 6,
   "id": "41d229c6",
   "metadata": {},
   "outputs": [
    {
     "name": "stdout",
     "output_type": "stream",
     "text": [
      "10 37\n",
      ".....................................\n",
      "...#...####...####..###...###...###..\n",
      "..#.#..#...#.##....#...#.#...#.#...#.\n",
      "..#.#..#...#.#.....#...#.#...#.#...#.\n",
      ".#...#.#..##.#.....#...#.#.###.#.###.\n",
      ".#####.####..#.....#...#..##....##...\n",
      ".#...#.#...#.#.....#...#.#...#.#...#.\n",
      ".#...#.#...#.##....#...#.#...#.#...#.\n",
      ".#...#.####...####..###...###...###..\n",
      ".....................................\n",
      "209\n"
     ]
    }
   ],
   "source": [
    "from collections import deque\n",
    "\n",
    "h, w = map(int, input().split())\n",
    "S = []\n",
    "for _ in range(h):\n",
    "    S.append(list(input()))\n",
    "    \n",
    "dx = [1, 0, -1, 0]\n",
    "dy = [0, 1, 0, -1]\n",
    "\n",
    "INF = int(1e9)\n",
    "D = [[INF]*w for _ in range(h)]\n",
    "\n",
    "sx = 0\n",
    "sy = 0\n",
    "gx = w-1\n",
    "gy = h-1\n",
    "def bsf():\n",
    "    que = deque()\n",
    "    que.append([sy, sx])\n",
    "    D[sy][sx] = 0\n",
    "    while len(que) != 0:\n",
    "        p = que.popleft()\n",
    "        if p[0] == gy and p[1] == gx:\n",
    "            break\n",
    "        else:\n",
    "            for i in range(4):\n",
    "                nx = p[1] + dx[i]\n",
    "                ny = p[0] + dy[i]\n",
    "                \n",
    "                if 0 <= nx < w and 0 <= ny < h and S[ny][nx] != '#' and D[ny][nx] == INF:\n",
    "                    que.append([ny, nx])\n",
    "                    D[ny][nx] = D[p[0]][p[1]] + 1\n",
    "                    \n",
    "    return D[gy][gx]\n",
    "\n",
    "block = 0\n",
    "for i in range(h):\n",
    "    for j in range(w):\n",
    "        if S[i][j] == '#':\n",
    "            block += 1\n",
    "            \n",
    "ans = h*w - bsf() - block -1\n",
    "print(ans)"
   ]
  },
  {
   "cell_type": "code",
   "execution_count": 9,
   "id": "d9792fdd",
   "metadata": {},
   "outputs": [
    {
     "name": "stdout",
     "output_type": "stream",
     "text": [
      "3 3\n",
      "1 2\n",
      "1 3\n",
      "2 3\n",
      "2\n"
     ]
    }
   ],
   "source": [
    "import itertools\n",
    "n, m = map(int, input().split())\n",
    "\n",
    "graph = [[0]*n for _ in range(n)]\n",
    "for i in range(m):\n",
    "    a, b = map(int, input().split())\n",
    "    a -= 1\n",
    "    b -= 1\n",
    "    graph[a][b] = 1\n",
    "    graph[b][a] = 1\n",
    "    \n",
    "ans = 0\n",
    "for num in itertools.permutations(range(n)):\n",
    "    if num[0] == 0:\n",
    "        count = 0\n",
    "        for i in range(n-1):\n",
    "            if graph[num[i]][num[i+1]] == 1:\n",
    "                count += 1\n",
    "        if count == n-1:\n",
    "            ans += 1\n",
    "print(ans)"
   ]
  },
  {
   "cell_type": "code",
   "execution_count": 11,
   "id": "a2426ce1",
   "metadata": {},
   "outputs": [
    {
     "name": "stdout",
     "output_type": "stream",
     "text": [
      "6\n",
      "3\n",
      "72\n",
      "2\n",
      "12\n",
      "7\n",
      "2\n",
      "1\n",
      "68\n"
     ]
    }
   ],
   "source": [
    "import itertools\n",
    "\n",
    "n = int(input())\n",
    "k = int(input())\n",
    "\n",
    "num = []\n",
    "for i in range(n):\n",
    "    num.append(int(input()))\n",
    "\n",
    "\n",
    "inte = []\n",
    "for com in itertools.combinations(num, k):\n",
    "    for per in itertools.permutations(com):\n",
    "        per = map(str, per)\n",
    "        i = ''.join(per)\n",
    "        if i not in inte:\n",
    "            inte.append(i)\n",
    "print(len(inte))"
   ]
  },
  {
   "cell_type": "code",
   "execution_count": 36,
   "id": "15217f36",
   "metadata": {},
   "outputs": [
    {
     "name": "stdout",
     "output_type": "stream",
     "text": [
      "1\n",
      "1\n",
      "2\n",
      "0.0\n"
     ]
    }
   ],
   "source": [
    "import itertools\n",
    "\n",
    "N = int(input())\n",
    "\n",
    "a = list((map(int, input().split())))\n",
    "b = list((map(int, input().split())))\n",
    "\n",
    "a_sum = 0\n",
    "for num_a in list(itertools.permutations(a)):\n",
    "    for num_b in list(itertools.permutations(b)):\n",
    "        a_win = 0\n",
    "        b_win = 0\n",
    "        \n",
    "        for i in range(N):\n",
    "            if num_a[i] > num_b[i]:\n",
    "                a_win += 1\n",
    "            elif num_a[i] < num_b[i]:\n",
    "                b_win += 1\n",
    "        if a_win > b_win:\n",
    "            a_sum += 1\n",
    "\n",
    "c = len(list(itertools.permutations(a)))*len(list(itertools.permutations(b)))\n",
    "print(a_sum/c)"
   ]
  },
  {
   "cell_type": "code",
   "execution_count": 19,
   "id": "91455f26",
   "metadata": {},
   "outputs": [
    {
     "data": {
      "text/plain": [
       "[(2, 4), (4, 2)]"
      ]
     },
     "execution_count": 19,
     "metadata": {},
     "output_type": "execute_result"
    }
   ],
   "source": [
    "l = [2, 4]\n",
    "list(itertools.permutations(l))"
   ]
  },
  {
   "cell_type": "code",
   "execution_count": 3,
   "id": "d3ef2b1f",
   "metadata": {},
   "outputs": [
    {
     "name": "stdout",
     "output_type": "stream",
     "text": [
      "1\n",
      "15\n"
     ]
    }
   ],
   "source": [
    "pay = int(input())\n",
    "\n",
    "change = 1000 - pay\n",
    "\n",
    "money = [500, 100, 50, 10, 5, 1]\n",
    "\n",
    "ans = 0\n",
    "for m in money:\n",
    "    while change>=m:\n",
    "        change -= m\n",
    "        ans += 1\n",
    "    if change == 0:\n",
    "        break\n",
    "    \n",
    "print(ans)"
   ]
  },
  {
   "cell_type": "code",
   "execution_count": 8,
   "id": "b4ca44b1",
   "metadata": {},
   "outputs": [
    {
     "name": "stdout",
     "output_type": "stream",
     "text": [
      "15 6\n",
      "1 2 7 8 12 50\n",
      "[1, 2, 7, 8, 12, 50]\n",
      "[50, 12, 8, 7, 2, 1]\n",
      "3\n"
     ]
    }
   ],
   "source": [
    "n, m = map(int, input().split())\n",
    "\n",
    "C = list(map(int, input().split()))\n",
    "\n",
    "INF = int(1e9)\n",
    "\n",
    "dp = [[INF]*(n+1) for _ in range(m)]\n",
    "\n",
    "for i in range(m):\n",
    "    dp[i][0] = 0\n",
    "for i in range(m):\n",
    "    for j in range(n+1):\n",
    "        if j < coin[i]:\n",
    "            dp[i][j] = dp[i-1][j]\n",
    "        else:\n",
    "            dp[i][j] = min(dp[i-1][j], dp[i][j-coin[j]]+1)"
   ]
  },
  {
   "cell_type": "code",
   "execution_count": 20,
   "id": "382f5419",
   "metadata": {},
   "outputs": [
    {
     "name": "stdout",
     "output_type": "stream",
     "text": [
      "4\n",
      "2 4\n",
      "4 3\n",
      "9 3\n",
      "100 5\n",
      "3\n"
     ]
    }
   ],
   "source": [
    "N = int(input())\n",
    "\n",
    "X = []\n",
    "L = []\n",
    "for _ in range(N):\n",
    "    x, l =map(int, input().split())\n",
    "    X.append(x)\n",
    "    L.append(l)\n",
    "    \n",
    "P = []\n",
    "for i in range(N):\n",
    "    s = X[i] - L[i]\n",
    "    t = X[i] + L[i]\n",
    "    P.append([s, t])\n",
    "    \n",
    "P.sort(key=lambda x:x[1])\n",
    "\n",
    "INF = int(1e9)\n",
    "res = 0\n",
    "tmp = -INF\n",
    "\n",
    "for i in range(N):\n",
    "    if tmp <= P[i][0]:\n",
    "        res += 1\n",
    "        tmp = P[i][1]\n",
    "        \n",
    "print(res)"
   ]
  },
  {
   "cell_type": "code",
   "execution_count": 24,
   "id": "228e8b0b",
   "metadata": {},
   "outputs": [
    {
     "name": "stdout",
     "output_type": "stream",
     "text": [
      "5 2\n",
      "1 4\n",
      "2 5\n",
      "1\n"
     ]
    }
   ],
   "source": [
    "n, m = map(int, input().split())\n",
    "\n",
    "war = []\n",
    "for _ in range(m):\n",
    "    a, b = map(int, input().split())\n",
    "    war.append([a, b])\n",
    "    \n",
    "war.sort(key=lambda x:x[1])\n",
    "INF = -int(1e9)\n",
    "\n",
    "res = 1\n",
    "tmp = war[0][1] - 1\n",
    "for i in range(m):\n",
    "    if tmp < war[i][0]:\n",
    "        res += 1\n",
    "        tmp = war[i][i]\n",
    "        \n",
    "print(res)"
   ]
  },
  {
   "cell_type": "code",
   "execution_count": 29,
   "id": "27d526fc",
   "metadata": {},
   "outputs": [
    {
     "name": "stdout",
     "output_type": "stream",
     "text": [
      "4\n",
      "2 4\n",
      "4 3\n",
      "9 3\n",
      "100 5\n",
      "3\n"
     ]
    }
   ],
   "source": [
    "N = int(input())\n",
    "\n",
    "D = []\n",
    "\n",
    "for _ in range(N):\n",
    "    x, l = map(int, input().split())\n",
    "    mini  = x - l\n",
    "    maxi = x + l\n",
    "    D.append([mini, maxi])\n",
    "\n",
    "D.sort(key = lambda x:x[1])\n",
    "\n",
    "res = 0\n",
    "tmp = -1e9\n",
    "\n",
    "for i in range(N):\n",
    "    if tmp <= D[i][0]:\n",
    "        res += 1\n",
    "        tmp = D[i][1]\n",
    "        \n",
    "print(res)"
   ]
  },
  {
   "cell_type": "code",
   "execution_count": 2,
   "id": "d610a4ac",
   "metadata": {},
   "outputs": [
    {
     "name": "stdout",
     "output_type": "stream",
     "text": [
      "?tc????\n",
      "coder\n",
      "atcoder\n"
     ]
    },
    {
     "ename": "IndexError",
     "evalue": "string index out of range",
     "output_type": "error",
     "traceback": [
      "\u001b[0;31m---------------------------------------------------------------------------\u001b[0m",
      "\u001b[0;31mIndexError\u001b[0m                                Traceback (most recent call last)",
      "\u001b[0;32m/var/folders/dk/82s_y4sn7nld93yfn_c7zxj40000gn/T/ipykernel_68742/4202987332.py\u001b[0m in \u001b[0;36m<module>\u001b[0;34m\u001b[0m\n\u001b[1;32m     15\u001b[0m             \u001b[0mprint\u001b[0m\u001b[0;34m(\u001b[0m\u001b[0;34m(\u001b[0m\u001b[0msd\u001b[0m\u001b[0;34m[\u001b[0m\u001b[0;34m:\u001b[0m\u001b[0mi\u001b[0m\u001b[0;34m]\u001b[0m \u001b[0;34m+\u001b[0m \u001b[0mt\u001b[0m \u001b[0;34m+\u001b[0m \u001b[0msd\u001b[0m\u001b[0;34m[\u001b[0m\u001b[0mi\u001b[0m \u001b[0;34m+\u001b[0m \u001b[0mlen\u001b[0m\u001b[0;34m(\u001b[0m\u001b[0mt\u001b[0m\u001b[0;34m)\u001b[0m\u001b[0;34m:\u001b[0m\u001b[0;34m]\u001b[0m\u001b[0;34m)\u001b[0m\u001b[0;34m.\u001b[0m\u001b[0mreplace\u001b[0m\u001b[0;34m(\u001b[0m\u001b[0;34m\"?\"\u001b[0m\u001b[0;34m,\u001b[0m \u001b[0;34m\"a\"\u001b[0m\u001b[0;34m)\u001b[0m\u001b[0;34m)\u001b[0m\u001b[0;34m\u001b[0m\u001b[0;34m\u001b[0m\u001b[0m\n\u001b[1;32m     16\u001b[0m             \u001b[0msys\u001b[0m\u001b[0;34m.\u001b[0m\u001b[0mexit\u001b[0m\u001b[0;34m\u001b[0m\u001b[0;34m\u001b[0m\u001b[0m\n\u001b[0;32m---> 17\u001b[0;31m         \u001b[0;32mif\u001b[0m \u001b[0mt_kamo\u001b[0m\u001b[0;34m[\u001b[0m\u001b[0mj\u001b[0m\u001b[0;34m]\u001b[0m \u001b[0;34m==\u001b[0m \u001b[0;34m\"?\"\u001b[0m\u001b[0;34m:\u001b[0m\u001b[0;34m\u001b[0m\u001b[0;34m\u001b[0m\u001b[0m\n\u001b[0m\u001b[1;32m     18\u001b[0m             \u001b[0;32mcontinue\u001b[0m\u001b[0;34m\u001b[0m\u001b[0;34m\u001b[0m\u001b[0m\n\u001b[1;32m     19\u001b[0m         \u001b[0;32melif\u001b[0m \u001b[0mt_kamo\u001b[0m\u001b[0;34m[\u001b[0m\u001b[0mj\u001b[0m\u001b[0;34m]\u001b[0m \u001b[0;34m!=\u001b[0m \u001b[0mt\u001b[0m\u001b[0;34m[\u001b[0m\u001b[0mj\u001b[0m\u001b[0;34m]\u001b[0m\u001b[0;34m:\u001b[0m\u001b[0;34m\u001b[0m\u001b[0;34m\u001b[0m\u001b[0m\n",
      "\u001b[0;31mIndexError\u001b[0m: string index out of range"
     ]
    }
   ],
   "source": [
    "import sys\n",
    "sd = input()\n",
    "t = input()\n",
    "\n",
    "n = len(sd)\n",
    "m = len(t)\n",
    "s = []\n",
    "\n",
    "# sd を後ろから見ていき、 t の入りそうな場所を探す\n",
    "for i in range(n - m, -1, -1):\n",
    "    t_kamo = sd[i:i + m]\n",
    "    for j in range(m + 1):\n",
    "        # 1文字ずつ順に入りうるか調べ、最後まで入るなら \"?\" を \"a\" に置き換えて出力\n",
    "        if j == m:\n",
    "            print((sd[:i] + t + sd[i + len(t):]).replace(\"?\", \"a\"))\n",
    "            exit()\n",
    "        if t_kamo[j] == \"?\":\n",
    "            continue\n",
    "        elif t_kamo[j] != t[j]:\n",
    "            break\n",
    "\n",
    "print(\"UNRESTORABLE\")"
   ]
  },
  {
   "cell_type": "code",
   "execution_count": 3,
   "id": "c764827d",
   "metadata": {},
   "outputs": [
    {
     "name": "stdout",
     "output_type": "stream",
     "text": [
      "xyz\n",
      "a\n"
     ]
    }
   ],
   "source": [
    "t = input()\n",
    "a = 'a'\n",
    "\n",
    "if t != a:\n",
    "    print(a)\n",
    "elif t == a:\n",
    "    print(-1)"
   ]
  },
  {
   "cell_type": "code",
   "execution_count": 6,
   "id": "6f5ef1d1",
   "metadata": {},
   "outputs": [
    {
     "name": "stdout",
     "output_type": "stream",
     "text": [
      "3\n"
     ]
    }
   ],
   "source": [
    "x, y = map(int, input().split())\n",
    "\n",
    "ans = []\n",
    "\n",
    "ans.append(x)\n",
    "\n",
    "i = 0\n",
    "while ans[i] < y:\n",
    "  if ans[i] * 2 <= y:\n",
    "    ans.append(ans[i] * 2)\n",
    "    i += 1\n",
    "\n",
    "  else: break\n",
    "\n",
    "print(len(ans))"
   ]
  },
  {
   "cell_type": "code",
   "execution_count": 16,
   "id": "924566d7",
   "metadata": {},
   "outputs": [
    {
     "name": "stdout",
     "output_type": "stream",
     "text": [
      "3\n"
     ]
    }
   ],
   "source": [
    "n = int(input())\n",
    "\n",
    "w = [int(input()) for _ in range(n)]\n",
    "\n",
    "ans = 0\n",
    "\n",
    "top = []\n",
    "\n",
    "for i in w:\n",
    "  for j in range(len(top) + 1):\n",
    "    if j == len(top):\n",
    "      top.append(j)\n",
    "      break\n",
    "    \n",
    "    if i <= top[j]:\n",
    "      top[j] = i\n",
    "      break\n",
    "ans = len(top)\n",
    "print(ans)"
   ]
  },
  {
   "cell_type": "code",
   "execution_count": 6,
   "id": "b5bcd8f4",
   "metadata": {},
   "outputs": [
    {
     "name": "stdout",
     "output_type": "stream",
     "text": [
      "no\n",
      "no\n"
     ]
    }
   ],
   "source": [
    "import sys\n",
    "t = int(input())\n",
    "n = int(input())\n",
    "A = list(map(int, input().split()))\n",
    "m = int(input())\n",
    "B = list(map(int, input().split()))\n",
    "\n",
    "takoyaki = []\n",
    "kyaku = 0\n",
    "\n",
    "for i in range(101):\n",
    "  if kyaku:\n",
    "    print('no')\n",
    "    exit()\n",
    "\n",
    "  for j in range(n):\n",
    "    if A[j] == i:\n",
    "      takoyaki.append(0)\n",
    "  for k in range(m):\n",
    "    if B[k] == i:\n",
    "      kyaku += 1\n",
    "\n",
    "  while takoyaki and kyaku:\n",
    "    takoyaki.pop(0)\n",
    "    kyaku -= 1\n",
    "\n",
    "  x = 0\n",
    "  while x < len(takoyaki):\n",
    "    takoyaki[x] += 1\n",
    "    if takoyaki[x] > t:\n",
    "      takoyaki.pop(x)\n",
    "    else:\n",
    "      x += 1\n",
    "\n",
    "if kyaku:\n",
    "  print('no')\n",
    "\n",
    "else:\n",
    "  print('yes')\n",
    "\n",
    "\n",
    "\n"
   ]
  },
  {
   "cell_type": "code",
   "execution_count": 11,
   "id": "cb519090",
   "metadata": {},
   "outputs": [
    {
     "name": "stdout",
     "output_type": "stream",
     "text": [
      "13\n"
     ]
    }
   ],
   "source": [
    "N, W = map(int, input().split())\n",
    "w = []\n",
    "v = []\n",
    "\n",
    "for _ in range(N):\n",
    "  v_, w_ = map(int, input().split())\n",
    "  v.append(v_)\n",
    "  w.append(w_)\n",
    "\n",
    "dp = [[0] * (W+1) for _ in range(N+1)]\n",
    "\n",
    "for i in range(N):\n",
    "  for j in range(W+1):\n",
    "    if j < w[i]:\n",
    "      dp[i+1][j] = dp[i][j]\n",
    "\n",
    "    else:\n",
    "      dp[i+1][j] = max(dp[i][j], dp[i][j-w[i]]+v[i])\n",
    "\n",
    "print(dp[N][W])\n"
   ]
  },
  {
   "cell_type": "code",
   "execution_count": 4,
   "id": "20d02882",
   "metadata": {},
   "outputs": [
    {
     "name": "stdout",
     "output_type": "stream",
     "text": [
      "7\n"
     ]
    }
   ],
   "source": [
    "n = int(input())\n",
    "\n",
    "p = list(map(int, input().split()))\n",
    "\n",
    "dp = [False for _ in range(10001)]\n",
    "\n",
    "dp[0] = True\n",
    "\n",
    "for i in range(len(p)):\n",
    "  for j in range(10001-p[i], -1, -1):\n",
    "    if dp[j]:\n",
    "      dp[j+p[i]] = True\n",
    "\n",
    "ans = sum(dp)\n",
    "print(ans)"
   ]
  },
  {
   "cell_type": "code",
   "execution_count": 5,
   "id": "a5753d58",
   "metadata": {},
   "outputs": [
    {
     "ename": "ValueError",
     "evalue": "not enough values to unpack (expected 2, got 0)",
     "output_type": "error",
     "traceback": [
      "\u001b[0;31m---------------------------------------------------------------------------\u001b[0m",
      "\u001b[0;31mValueError\u001b[0m                                Traceback (most recent call last)",
      "\u001b[0;32m/var/folders/dk/82s_y4sn7nld93yfn_c7zxj40000gn/T/ipykernel_88055/232819940.py\u001b[0m in \u001b[0;36m<module>\u001b[0;34m\u001b[0m\n\u001b[0;32m----> 1\u001b[0;31m \u001b[0mn\u001b[0m\u001b[0;34m,\u001b[0m \u001b[0md\u001b[0m \u001b[0;34m=\u001b[0m \u001b[0mmap\u001b[0m\u001b[0;34m(\u001b[0m\u001b[0mint\u001b[0m\u001b[0;34m,\u001b[0m \u001b[0minput\u001b[0m\u001b[0;34m(\u001b[0m\u001b[0;34m)\u001b[0m\u001b[0;34m.\u001b[0m\u001b[0msplit\u001b[0m\u001b[0;34m(\u001b[0m\u001b[0;34m)\u001b[0m\u001b[0;34m)\u001b[0m\u001b[0;34m\u001b[0m\u001b[0;34m\u001b[0m\u001b[0m\n\u001b[0m\u001b[1;32m      2\u001b[0m \u001b[0;34m\u001b[0m\u001b[0m\n\u001b[1;32m      3\u001b[0m \u001b[0mcount2\u001b[0m \u001b[0;34m=\u001b[0m \u001b[0;36m0\u001b[0m\u001b[0;34m\u001b[0m\u001b[0;34m\u001b[0m\u001b[0m\n\u001b[1;32m      4\u001b[0m \u001b[0mcount3\u001b[0m \u001b[0;34m=\u001b[0m \u001b[0;36m0\u001b[0m\u001b[0;34m\u001b[0m\u001b[0;34m\u001b[0m\u001b[0m\n\u001b[1;32m      5\u001b[0m \u001b[0mcount5\u001b[0m \u001b[0;34m=\u001b[0m \u001b[0;36m0\u001b[0m\u001b[0;34m\u001b[0m\u001b[0;34m\u001b[0m\u001b[0m\n",
      "\u001b[0;31mValueError\u001b[0m: not enough values to unpack (expected 2, got 0)"
     ]
    }
   ],
   "source": [
    "n, d = map(int, input().split())\n",
    "\n",
    "count2 = 0\n",
    "count3 = 0\n",
    "count5 = 0\n",
    "\n",
    "while d%2 == 0:\n",
    "  d /= 2\n",
    "  count2 += 1\n",
    "\n",
    "while d%3 == 0:\n",
    "  d /= 3\n",
    "  count3 += 1\n",
    "\n",
    "while d%5 == 0:\n",
    "  d /= 5\n",
    "  count5 += 1\n",
    "\n",
    "if d != 1:\n",
    "  print(0)\n",
    "  exit()\n",
    "\n",
    "dp = [[]]"
   ]
  },
  {
   "cell_type": "code",
   "execution_count": 6,
   "id": "52f59cb7",
   "metadata": {},
   "outputs": [
    {
     "ename": "ValueError",
     "evalue": "invalid literal for int() with base 10: ''",
     "output_type": "error",
     "traceback": [
      "\u001b[0;31m---------------------------------------------------------------------------\u001b[0m",
      "\u001b[0;31mValueError\u001b[0m                                Traceback (most recent call last)",
      "\u001b[0;32m/var/folders/dk/82s_y4sn7nld93yfn_c7zxj40000gn/T/ipykernel_88055/845945547.py\u001b[0m in \u001b[0;36m<module>\u001b[0;34m\u001b[0m\n\u001b[0;32m----> 1\u001b[0;31m \u001b[0mw\u001b[0m \u001b[0;34m=\u001b[0m \u001b[0mint\u001b[0m\u001b[0;34m(\u001b[0m\u001b[0minput\u001b[0m\u001b[0;34m(\u001b[0m\u001b[0;34m)\u001b[0m\u001b[0;34m)\u001b[0m\u001b[0;34m\u001b[0m\u001b[0;34m\u001b[0m\u001b[0m\n\u001b[0m\u001b[1;32m      2\u001b[0m \u001b[0;34m\u001b[0m\u001b[0m\n\u001b[1;32m      3\u001b[0m \u001b[0mn\u001b[0m\u001b[0;34m,\u001b[0m \u001b[0mk\u001b[0m \u001b[0;34m=\u001b[0m \u001b[0mmap\u001b[0m\u001b[0;34m(\u001b[0m\u001b[0mint\u001b[0m\u001b[0;34m,\u001b[0m \u001b[0minput\u001b[0m\u001b[0;34m(\u001b[0m\u001b[0;34m)\u001b[0m\u001b[0;34m.\u001b[0m\u001b[0msplit\u001b[0m\u001b[0;34m(\u001b[0m\u001b[0;34m)\u001b[0m\u001b[0;34m)\u001b[0m\u001b[0;34m\u001b[0m\u001b[0;34m\u001b[0m\u001b[0m\n\u001b[1;32m      4\u001b[0m \u001b[0;34m\u001b[0m\u001b[0m\n\u001b[1;32m      5\u001b[0m \u001b[0mA\u001b[0m \u001b[0;34m=\u001b[0m \u001b[0;34m[\u001b[0m\u001b[0;34m]\u001b[0m\u001b[0;34m\u001b[0m\u001b[0;34m\u001b[0m\u001b[0m\n",
      "\u001b[0;31mValueError\u001b[0m: invalid literal for int() with base 10: ''"
     ]
    }
   ],
   "source": []
  },
  {
   "cell_type": "code",
   "execution_count": 8,
   "id": "dd1ae7bd",
   "metadata": {},
   "outputs": [
    {
     "name": "stdout",
     "output_type": "stream",
     "text": [
      "4\n"
     ]
    }
   ],
   "source": [
    "s = input()\n",
    "t = input()\n",
    "\n",
    "dp = [[0] * (len(t) + 1) for _ in range(len(s)+1)]\n",
    "\n",
    "for i in range(len(s)):\n",
    "  for j in range(len(t)):\n",
    "    if s[i] == t[j]:\n",
    "      dp[i+1][j+1] = dp[i][j] + 1\n",
    "\n",
    "    else:\n",
    "      dp[i+1][j+1] = max(dp[i+1][j], dp[i][j+1])\n",
    "\n",
    "print(dp[len(s)][len(t)])\n"
   ]
  },
  {
   "cell_type": "code",
   "execution_count": 3,
   "id": "d0a962fa",
   "metadata": {},
   "outputs": [
    {
     "name": "stdout",
     "output_type": "stream",
     "text": [
      "4 8\n",
      "4 2\n",
      "5 2\n",
      "2 1\n",
      "8 3\n",
      "21\n"
     ]
    }
   ],
   "source": [
    "N, W = map(int, input().split())\n",
    "\n",
    "v = []\n",
    "w = []\n",
    "\n",
    "for _ in range(N):\n",
    "    v_, w_ = map(int, input().split())\n",
    "    v.append(v_)\n",
    "    w.append(w_)\n",
    "dp = [[0] * (W+1) for _ in range(N+1)]\n",
    "for i in range(N):\n",
    "    for j in range(W+1):\n",
    "            k = 0\n",
    "            while k * w[i] <= j:\n",
    "                dp[i+1][j] = max(dp[i+1][j], dp[i][j-k*w[i]]+k*v[i])\n",
    "                k += 1\n",
    "                \n",
    "print(dp[N][W])\n"
   ]
  },
  {
   "cell_type": "code",
   "execution_count": 11,
   "id": "51b937d2",
   "metadata": {},
   "outputs": [
    {
     "name": "stdout",
     "output_type": "stream",
     "text": [
      "4 8\n",
      "4 2\n",
      "5 2\n",
      "2 1\n",
      "8 3\n",
      "21\n"
     ]
    }
   ],
   "source": [
    "n, W = map(int, input().split())\n",
    "w = []\n",
    "v = []\n",
    "for i in range(n):\n",
    "    v_, w_ = map(int, input().split())\n",
    "    v.append(v_)\n",
    "    w.append(w_)\n",
    "\n",
    "dp = [0] * (W+1)\n",
    "\n",
    "for i in range(n):\n",
    "    for j in range(w[i], W+1):\n",
    "            dp[j] = max(dp[j], dp[j-w[i]]+v[i])\n",
    "print(dp[W])"
   ]
  },
  {
   "cell_type": "code",
   "execution_count": 15,
   "id": "a2309e3f",
   "metadata": {},
   "outputs": [
    {
     "name": "stdout",
     "output_type": "stream",
     "text": [
      "9 3\n",
      "8 3\n",
      "4 2\n",
      "2 1\n",
      "0\n"
     ]
    }
   ],
   "source": [
    "h, n = map(int, input().split())\n",
    "\n",
    "A = []\n",
    "B = []\n",
    "for _ in range(n):\n",
    "    a, b = map(int, input().split())\n",
    "    A.append(a)\n",
    "    B.append(b)\n",
    "    \n",
    "dp = [0] * (h+1)\n",
    "\n",
    "for i in range(n):\n",
    "    for j in range(A[i], h+1):\n",
    "        dp[j] = max(dp[j], dp[j-A[i]]+B[i])\n",
    "        \n",
    "print(dp[h])"
   ]
  },
  {
   "cell_type": "code",
   "execution_count": 20,
   "id": "2a1b8d9a",
   "metadata": {},
   "outputs": [
    {
     "name": "stdout",
     "output_type": "stream",
     "text": [
      "10 936447862\n",
      "854 810169801\n",
      "691 957981784\n",
      "294 687140254\n",
      "333 932608409\n",
      "832 42367415\n",
      "642 727293784\n",
      "139 870916042\n",
      "101 685539955\n",
      "853 243593312\n",
      "369 977358410\n"
     ]
    },
    {
     "ename": "KeyboardInterrupt",
     "evalue": "",
     "output_type": "error",
     "traceback": [
      "\u001b[0;31m---------------------------------------------------------------------------\u001b[0m",
      "\u001b[0;31mKeyboardInterrupt\u001b[0m                         Traceback (most recent call last)",
      "\u001b[0;32m/var/folders/dk/82s_y4sn7nld93yfn_c7zxj40000gn/T/ipykernel_92150/2174003691.py\u001b[0m in \u001b[0;36m<module>\u001b[0;34m\u001b[0m\n\u001b[1;32m     16\u001b[0m             \u001b[0mdp\u001b[0m\u001b[0;34m[\u001b[0m\u001b[0mi\u001b[0m\u001b[0;34m+\u001b[0m\u001b[0;36m1\u001b[0m\u001b[0;34m]\u001b[0m\u001b[0;34m[\u001b[0m\u001b[0mj\u001b[0m\u001b[0;34m]\u001b[0m \u001b[0;34m=\u001b[0m \u001b[0mdp\u001b[0m\u001b[0;34m[\u001b[0m\u001b[0mi\u001b[0m\u001b[0;34m]\u001b[0m\u001b[0;34m[\u001b[0m\u001b[0mj\u001b[0m\u001b[0;34m]\u001b[0m\u001b[0;34m\u001b[0m\u001b[0;34m\u001b[0m\u001b[0m\n\u001b[1;32m     17\u001b[0m         \u001b[0;32melse\u001b[0m\u001b[0;34m:\u001b[0m\u001b[0;34m\u001b[0m\u001b[0;34m\u001b[0m\u001b[0m\n\u001b[0;32m---> 18\u001b[0;31m             \u001b[0mdp\u001b[0m\u001b[0;34m[\u001b[0m\u001b[0mi\u001b[0m\u001b[0;34m+\u001b[0m\u001b[0;36m1\u001b[0m\u001b[0;34m]\u001b[0m\u001b[0;34m[\u001b[0m\u001b[0mj\u001b[0m\u001b[0;34m]\u001b[0m \u001b[0;34m=\u001b[0m \u001b[0mmax\u001b[0m\u001b[0;34m(\u001b[0m\u001b[0mdp\u001b[0m\u001b[0;34m[\u001b[0m\u001b[0mi\u001b[0m\u001b[0;34m]\u001b[0m\u001b[0;34m[\u001b[0m\u001b[0mj\u001b[0m\u001b[0;34m]\u001b[0m\u001b[0;34m,\u001b[0m \u001b[0mdp\u001b[0m\u001b[0;34m[\u001b[0m\u001b[0mi\u001b[0m\u001b[0;34m]\u001b[0m\u001b[0;34m[\u001b[0m\u001b[0mj\u001b[0m\u001b[0;34m-\u001b[0m\u001b[0mw\u001b[0m\u001b[0;34m[\u001b[0m\u001b[0mi\u001b[0m\u001b[0;34m]\u001b[0m\u001b[0;34m]\u001b[0m\u001b[0;34m+\u001b[0m\u001b[0mv\u001b[0m\u001b[0;34m[\u001b[0m\u001b[0mi\u001b[0m\u001b[0;34m]\u001b[0m\u001b[0;34m)\u001b[0m\u001b[0;34m\u001b[0m\u001b[0;34m\u001b[0m\u001b[0m\n\u001b[0m\u001b[1;32m     19\u001b[0m \u001b[0;34m\u001b[0m\u001b[0m\n\u001b[1;32m     20\u001b[0m \u001b[0mprint\u001b[0m\u001b[0;34m(\u001b[0m\u001b[0mdp\u001b[0m\u001b[0;34m[\u001b[0m\u001b[0mn\u001b[0m\u001b[0;34m]\u001b[0m\u001b[0;34m[\u001b[0m\u001b[0mW\u001b[0m\u001b[0;34m]\u001b[0m\u001b[0;34m)\u001b[0m\u001b[0;34m\u001b[0m\u001b[0;34m\u001b[0m\u001b[0m\n",
      "\u001b[0;31mKeyboardInterrupt\u001b[0m: "
     ]
    }
   ],
   "source": [
    "n, W = map(int, input().split())\n",
    "\n",
    "v = []\n",
    "w = []\n",
    "\n",
    "for _ in range(n):\n",
    "    v_, w_ = map(int, input().split())\n",
    "    v.append(v_)\n",
    "    w.append(w_)\n",
    "    \n",
    "dp = [[0] * (W+1) for _ in range(n+1)]\n",
    "\n",
    "for i in range(n):\n",
    "    for j in range(W+1):\n",
    "        if j < w[i]:\n",
    "            dp[i+1][j] = dp[i][j]\n",
    "        else:\n",
    "            dp[i+1][j] = max(dp[i][j], dp[i][j-w[i]]+v[i])\n",
    "            \n",
    "print(dp[n][W])"
   ]
  },
  {
   "cell_type": "code",
   "execution_count": 2,
   "id": "9332a9b1",
   "metadata": {},
   "outputs": [
    {
     "name": "stdout",
     "output_type": "stream",
     "text": [
      "5 11 7 5\n",
      "1 4 5 8 9\n",
      "Yes\n"
     ]
    }
   ],
   "source": [
    "n, m, l, x = map(int, input().split())\n",
    "a = list(map(int, input().split()))\n",
    "\n",
    "dp = [[10**10] * m for _ in range(n+1)]\n",
    "\n",
    "dp[0][0] = 1\n",
    "for i in range(n):\n",
    "    for j in range(m):\n",
    "        dp[i+1][(j+a[i])%m] = min(dp[i][(j+a[i])%m], dp[i][j]+(j+a[i])//m)\n",
    "if dp[n][l] <= x:\n",
    "    print('Yes')\n",
    "else:\n",
    "    print('No')"
   ]
  },
  {
   "cell_type": "code",
   "execution_count": 11,
   "id": "fc16df0c",
   "metadata": {},
   "outputs": [
    {
     "name": "stdout",
     "output_type": "stream",
     "text": [
      "5\n",
      "3 1 5 4 2\n",
      "2\n"
     ]
    }
   ],
   "source": [
    "from bisect import bisect_left\n",
    "n = int(input())\n",
    "a = list(map(int, input().split()))\n",
    "\n",
    "dp = [float(\"inf\")] * n\n",
    "\n",
    "for i in range(n):\n",
    "    dp[bisect_left(dp, a[i])] = a[i]\n",
    "print(bisect_left(dp, float('inf')))"
   ]
  },
  {
   "cell_type": "code",
   "execution_count": 14,
   "id": "ae9ed3b1",
   "metadata": {},
   "outputs": [
    {
     "name": "stdout",
     "output_type": "stream",
     "text": [
      "6\n",
      "1\n",
      "3\n",
      "5\n",
      "2\n",
      "4\n",
      "6\n",
      "2\n"
     ]
    }
   ],
   "source": [
    "from bisect import bisect_left\n",
    "n = int(input())\n",
    "c = []\n",
    "for _ in range(n):\n",
    "    c.append(int(input()))\n",
    "    \n",
    "dp = [float(\"inf\")] * n\n",
    "for i in range(n):\n",
    "    dp[bisect_left(dp, c[i])] = c[i]\n",
    "    \n",
    "print(n - bisect_left(dp, float('inf')))"
   ]
  },
  {
   "cell_type": "code",
   "execution_count": null,
   "id": "90f40004",
   "metadata": {},
   "outputs": [],
   "source": []
  }
 ],
 "metadata": {
  "kernelspec": {
   "display_name": "Python 3 (ipykernel)",
   "language": "python",
   "name": "python3"
  },
  "language_info": {
   "codemirror_mode": {
    "name": "ipython",
    "version": 3
   },
   "file_extension": ".py",
   "mimetype": "text/x-python",
   "name": "python",
   "nbconvert_exporter": "python",
   "pygments_lexer": "ipython3",
   "version": "3.9.7"
  }
 },
 "nbformat": 4,
 "nbformat_minor": 5
}
