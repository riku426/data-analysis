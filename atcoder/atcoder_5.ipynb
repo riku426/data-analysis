{
 "cells": [
  {
   "cell_type": "code",
   "execution_count": 1,
   "metadata": {},
   "outputs": [
    {
     "name": "stdout",
     "output_type": "stream",
     "text": [
      "3\n"
     ]
    }
   ],
   "source": [
    "print(3)"
   ]
  },
  {
   "cell_type": "code",
   "execution_count": 4,
   "metadata": {},
   "outputs": [
    {
     "name": "stdout",
     "output_type": "stream",
     "text": [
      "-1\n"
     ]
    },
    {
     "ename": "",
     "evalue": "",
     "output_type": "error",
     "traceback": [
      "\u001b[1;31mThe Kernel crashed while executing code in the the current cell or a previous cell. Please review the code in the cell(s) to identify a possible cause of the failure. Click <a href='https://aka.ms/vscodeJupyterKernelCrash'>here</a> for more info. View Jupyter <a href='command:jupyter.viewOutput'>log</a> for further details."
     ]
    }
   ],
   "source": [
    "a, b, c, d = map(int, input().split())\n",
    "\n",
    "D = []\n",
    "\n",
    "if b / c >= d:\n",
    "  print(-1)\n",
    "  exit()\n",
    "blue = a\n",
    "red = 0\n",
    "for i in range(100000):\n",
    "  blue += b\n",
    "  red += c\n",
    "  d_ = blue / red\n",
    "  D.append(d_)\n",
    "  if D[-1] <= d:\n",
    "    print(len(D))\n",
    "    break"
   ]
  },
  {
   "cell_type": "code",
   "execution_count": null,
   "metadata": {},
   "outputs": [],
   "source": [
    "n = int(input())\n",
    "\n",
    "money = 0\n",
    "i = 0\n",
    "while True:\n",
    "  i += 1\n",
    "  money += i\n",
    "  if money >= n:\n",
    "    print(i)\n",
    "    break\n"
   ]
  },
  {
   "cell_type": "code",
   "execution_count": 2,
   "metadata": {},
   "outputs": [
    {
     "name": "stdout",
     "output_type": "stream",
     "text": [
      "No\n"
     ]
    }
   ],
   "source": [
    "\n",
    "n = int(input())\n",
    "List = [int(x+1) for x in range(n)]\n",
    "A = list(map(int, input().split()))\n",
    "\n",
    "flag = True\n",
    "if len(set(A)) != n:\n",
    "  flag = False\n",
    "\n",
    "for a in A:\n",
    "  if a not in List:\n",
    "    flag = False\n",
    "    break\n",
    "\n",
    "if flag:\n",
    "  print('Yes')\n",
    "else:\n",
    "  print('No')"
   ]
  },
  {
   "cell_type": "code",
   "execution_count": 3,
   "metadata": {},
   "outputs": [
    {
     "name": "stdout",
     "output_type": "stream",
     "text": [
      "25\n"
     ]
    }
   ],
   "source": [
    "n = int(input())\n",
    "A = list(map(int, input().split()))\n",
    "\n",
    "kinomi = 0\n",
    "for a in A:\n",
    "  if a > 10:\n",
    "    kinomi += (a - 10)\n",
    "\n",
    "print(kinomi)\n"
   ]
  },
  {
   "cell_type": "code",
   "execution_count": 5,
   "metadata": {},
   "outputs": [
    {
     "name": "stdout",
     "output_type": "stream",
     "text": [
      "1818\n"
     ]
    }
   ],
   "source": [
    "n, k  = map(int, input().split())\n",
    "\n",
    "ans_list = []\n",
    "for i in range(1, n+1):\n",
    "  for j in range(1, k+1):\n",
    "    m = i*100 + j\n",
    "    ans_list.append(m)\n",
    "\n",
    "print(sum (ans_list))"
   ]
  },
  {
   "cell_type": "code",
   "execution_count": 8,
   "metadata": {},
   "outputs": [
    {
     "name": "stdout",
     "output_type": "stream",
     "text": [
      "6881090\n"
     ]
    }
   ],
   "source": [
    "S = list(input())\n",
    "\n",
    "for i in range(len(S)):\n",
    "  if S[i] == '6':\n",
    "    S[i] = '9'\n",
    "  elif S[i] == '9':\n",
    "    S[i] = '6'\n",
    "\n",
    "S.reverse()\n",
    "ans = ''\n",
    "for s in S:\n",
    "  ans += s\n",
    "print(ans)"
   ]
  },
  {
   "cell_type": "code",
   "execution_count": 10,
   "metadata": {},
   "outputs": [
    {
     "name": "stdout",
     "output_type": "stream",
     "text": [
      "K2\n"
     ]
    }
   ],
   "source": [
    "n = int(input())\n",
    "\n",
    "S = []\n",
    "T = []\n",
    "\n",
    "for _ in range(n):\n",
    "  s, t = map(str, input().split())\n",
    "  S.append(s)\n",
    "  T.append(int(t))\n",
    "\n",
    "max_index = T.index(max(T))\n",
    "del T[max_index]\n",
    "del S[max_index]\n",
    "\n",
    "ans_index = T.index(max(T))\n",
    "print(S[ans_index])\n"
   ]
  },
  {
   "cell_type": "code",
   "execution_count": 27,
   "metadata": {},
   "outputs": [
    {
     "name": "stdout",
     "output_type": "stream",
     "text": [
      "No\n"
     ]
    }
   ],
   "source": [
    "from collections import deque\n",
    "n = int(input())\n",
    "\n",
    "S = []\n",
    "\n",
    "for _ in range(n):\n",
    "    s = list(input())\n",
    "    S.append(s)\n",
    "\n",
    "\n",
    "def check(y, x):\n",
    "    ans = []\n",
    "    if 0 <= x + 5 < n:\n",
    "        num = 0\n",
    "        for dx in range(x, x+6):\n",
    "            if S[y][dx] == '#':\n",
    "                num += 1\n",
    "        ans.append(num)\n",
    "    if 0 <= x-5 < n:\n",
    "        num = 0\n",
    "        for dx in range(x-5, x+1):\n",
    "            if S[y][dx] == '#':\n",
    "                num += 1\n",
    "        ans.append(num)\n",
    "\n",
    "    if 0 <= y + 5 < n:\n",
    "        num = 0\n",
    "        for dy in range(y, y+6):\n",
    "            if S[dy][x] == '#':\n",
    "                num += 1\n",
    "        ans.append(num)\n",
    "    if 0 <= y-5 < n:\n",
    "        num = 0\n",
    "        for dy in range(y-5, y+1):\n",
    "            if S[dy][x] == '#':\n",
    "                num += 1\n",
    "        ans.append(num)\n",
    "\n",
    "    if 0 <= x + 5 < n and 0 <= y+5 < n:\n",
    "        num = 0\n",
    "        for dx in range(6):\n",
    "            if S[y+dx][x+dx] == '#':\n",
    "                num += 1\n",
    "        ans.append(num)\n",
    "    if 0 <= x-5 < n and 0 <= y+5 < n:\n",
    "        num = 0\n",
    "        for dx in range(-5, 1):\n",
    "            if S[y-dx][x+dx] == '#':\n",
    "                num += 1\n",
    "        ans.append(num)\n",
    "\n",
    "    if 0 <= y - 5 < n and 0 <= x-5 < n:\n",
    "        num = 0\n",
    "        for dy in range(-5, 1):\n",
    "            if S[y+dy][x+dy] == '#':\n",
    "                num += 1\n",
    "        ans.append(num)\n",
    "    if 0 <= y-5 < n and 0 <= x+5 < n:\n",
    "        num = 0\n",
    "        for dy in range(6):\n",
    "            if S[y-dy][x+dy] == '#':\n",
    "                num += 1\n",
    "        ans.append(num)\n",
    "\n",
    "    return ans\n",
    "\n",
    "\n",
    "ans = []\n",
    "for i in range(n):\n",
    "  for j in range(n):\n",
    "    res = check(i, j)\n",
    "    ans.append(res)\n",
    "\n",
    "ans = sum(ans, [])\n",
    "\n",
    "if 4 in res or 5 in res or 6 in res:\n",
    "  print('Yes')\n",
    "else:\n",
    "  print('No')\n"
   ]
  },
  {
   "cell_type": "code",
   "execution_count": 28,
   "metadata": {},
   "outputs": [
    {
     "name": "stdout",
     "output_type": "stream",
     "text": [
      "Yes\n",
      "No\n"
     ]
    },
    {
     "ename": "",
     "evalue": "",
     "output_type": "error",
     "traceback": [
      "\u001b[1;31mThe Kernel crashed while executing code in the the current cell or a previous cell. Please review the code in the cell(s) to identify a possible cause of the failure. Click <a href='https://aka.ms/vscodeJupyterKernelCrash'>here</a> for more info. View Jupyter <a href='command:jupyter.viewOutput'>log</a> for further details."
     ]
    }
   ],
   "source": [
    "n = int(input())\n",
    "\n",
    "S = []\n",
    "\n",
    "for _ in range(n):\n",
    "    s = list(input())\n",
    "    S.append(s)\n",
    "\n",
    "def searchRight(y, x):\n",
    "  count = 0\n",
    "  for i in range(6):\n",
    "    if S[y][x+i] == '#':\n",
    "      count += 1\n",
    "\n",
    "  return count\n",
    "\n",
    "def searchLeft(y, x):\n",
    "  count = 0\n",
    "  for i in range(6):\n",
    "    if S[y][x-i] == '#':\n",
    "      count += 1\n",
    "\n",
    "  return count\n",
    "\n",
    "\n",
    "def searchTop(y, x):\n",
    "  count = 0\n",
    "  for i in range(6):\n",
    "    if S[y-i][x] == '#':\n",
    "      count += 1\n",
    "\n",
    "  return count\n",
    "\n",
    "def searchBottom(y, x):\n",
    "  count = 0\n",
    "  for i in range(6):\n",
    "    if S[y+i][x] == '#':\n",
    "      count += 1\n",
    "\n",
    "  return count\n",
    "\n",
    "def searchRightTop(y, x):\n",
    "  count = 0\n",
    "  for i in range(6):\n",
    "    if S[y-i][x+i] == '#':\n",
    "      count += 1\n",
    "\n",
    "  return count\n",
    "\n",
    "def searchRightBottom(y, x):\n",
    "  count = 0\n",
    "  for i in range(6):\n",
    "    if S[y+i][x+i] == '#':\n",
    "      count += 1\n",
    "\n",
    "  return count\n",
    "\n",
    "def searchLeftTop(y, x):\n",
    "  count = 0\n",
    "  for i in range(6):\n",
    "    if S[y-i][x-i] == '#':\n",
    "      count += 1\n",
    "\n",
    "  return count\n",
    "\n",
    "def searchLeftBottom(y, x):\n",
    "  count = 0\n",
    "  for i in range(6):\n",
    "    if S[y+i][x-i] == '#':\n",
    "      count += 1\n",
    "\n",
    "  return count\n",
    "\n",
    "for i in range(n):\n",
    "  for j in range(n):\n",
    "    if j + 5 < n:\n",
    "      if 4 <= searchRight(i, j):\n",
    "        print('Yes')\n",
    "        exit()\n",
    "\n",
    "    if i + 5 < n:\n",
    "      if 4 <= searchBottom(i, j):\n",
    "        print('Yes')\n",
    "        exit()\n",
    "    \n",
    "    if j + 5 < n and i+5 < n:\n",
    "      if 4 <= searchRightBottom(i, j):\n",
    "        print('Yes')\n",
    "        exit()\n",
    "      \n",
    "    if j + 5 < n and i-5 >= 0:\n",
    "      if 4 <= searchRightTop(i, j):\n",
    "        print('Yes')\n",
    "        exit()\n",
    "\n",
    "print('No')\n",
    "\n",
    "    "
   ]
  },
  {
   "cell_type": "code",
   "execution_count": 5,
   "metadata": {},
   "outputs": [
    {
     "name": "stdout",
     "output_type": "stream",
     "text": [
      "No\n"
     ]
    }
   ],
   "source": [
    "n, x = map(int, input().split())\n",
    "\n",
    "A = []\n",
    "B = []\n",
    "\n",
    "\n",
    "for _ in range(n):\n",
    "  a, b = map(int, input().split())\n",
    "  A.append(a)\n",
    "  B.append(b)\n",
    "\n",
    "for i in range(2**n):\n",
    "  res = 0\n",
    "  for j in range(n):\n",
    "    if i >> j & 1:\n",
    "      res += A[j]\n",
    "    else:\n",
    "      res += B[j]\n",
    "\n",
    "    if res > x:\n",
    "      break\n",
    "\n",
    "  if res == x:\n",
    "    print('Yes')\n",
    "    exit()\n",
    "\n",
    "print('No')\n",
    "      "
   ]
  },
  {
   "cell_type": "code",
   "execution_count": 7,
   "metadata": {},
   "outputs": [
    {
     "name": "stdout",
     "output_type": "stream",
     "text": [
      "{7}\n"
     ]
    }
   ],
   "source": [
    "n, x = map(int, input().split())\n",
    "\n",
    "A = []\n",
    "B = []\n",
    "\n",
    "dist = set()\n",
    "dist.add(0)\n",
    "\n",
    "for _ in range(n):\n",
    "  a, b = map(int, input().split())\n",
    "  new_dist = set()\n",
    "\n",
    "  for j in dist:\n",
    "    if j + a <= x:\n",
    "      new_dist.add(j+a)\n",
    "    if j + b <= x:\n",
    "      new_dist.add(j+b)\n",
    "\n",
    "  dist = new_dist\n",
    "\n",
    "\n",
    "if x in dist:\n",
    "  print('Yes')\n",
    "else:\n",
    "  print('No')\n",
    "\n",
    "\n"
   ]
  },
  {
   "cell_type": "code",
   "execution_count": 1,
   "metadata": {},
   "outputs": [
    {
     "name": "stdout",
     "output_type": "stream",
     "text": [
      "No\n"
     ]
    }
   ],
   "source": [
    "x1, y1, x2, y2 = map(int, input().split())\n",
    "\n",
    "K1 = [[x1+2, y1+1], [x1+1, y1+2], [x1-1, y1+2], [x1-2, y1+1], [x1-2, y1-1], [x1-1, y1-2], [x1+1, y1-2], [x1+2, y1-1]]\n",
    "\n",
    "K2 = [[x2+2, y2+1], [x2+1, y2+2], [x2-1, y2+2], [x2-2, y2+1], [x2-2, y2-1], [x2-1, y2-2], [x2+1, y2-2], [x2+2, y2-1]]\n",
    "\n",
    "K1 = [str(x[0])+str(x[1]) for x in K1]\n",
    "K2 = [str(x[0])+str(x[1]) for x in K2]\n",
    "\n",
    "for k2 in K2:\n",
    "  if k2 in K1:\n",
    "    print('Yes')\n",
    "    exit()\n",
    "\n",
    "print('No')"
   ]
  },
  {
   "cell_type": "code",
   "execution_count": null,
   "metadata": {},
   "outputs": [],
   "source": []
  },
  {
   "cell_type": "code",
   "execution_count": null,
   "metadata": {},
   "outputs": [
    {
     "name": "stdout",
     "output_type": "stream",
     "text": [
      "3\n"
     ]
    }
   ],
   "source": [
    "print(3)"
   ]
  },
  {
   "cell_type": "code",
   "execution_count": null,
   "metadata": {},
   "outputs": [
    {
     "name": "stdout",
     "output_type": "stream",
     "text": [
      "-1\n"
     ]
    },
    {
     "ename": "",
     "evalue": "",
     "output_type": "error",
     "traceback": [
      "\u001b[1;31mThe Kernel crashed while executing code in the the current cell or a previous cell. Please review the code in the cell(s) to identify a possible cause of the failure. Click <a href='https://aka.ms/vscodeJupyterKernelCrash'>here</a> for more info. View Jupyter <a href='command:jupyter.viewOutput'>log</a> for further details."
     ]
    }
   ],
   "source": [
    "a, b, c, d = map(int, input().split())\n",
    "\n",
    "D = []\n",
    "\n",
    "if b / c >= d:\n",
    "  print(-1)\n",
    "  exit()\n",
    "blue = a\n",
    "red = 0\n",
    "for i in range(100000):\n",
    "  blue += b\n",
    "  red += c\n",
    "  d_ = blue / red\n",
    "  D.append(d_)\n",
    "  if D[-1] <= d:\n",
    "    print(len(D))\n",
    "    break"
   ]
  },
  {
   "cell_type": "code",
   "execution_count": null,
   "metadata": {},
   "outputs": [],
   "source": [
    "n = int(input())\n",
    "\n",
    "money = 0\n",
    "i = 0\n",
    "while True:\n",
    "  i += 1\n",
    "  money += i\n",
    "  if money >= n:\n",
    "    print(i)\n",
    "    break\n"
   ]
  },
  {
   "cell_type": "code",
   "execution_count": null,
   "metadata": {},
   "outputs": [
    {
     "name": "stdout",
     "output_type": "stream",
     "text": [
      "No\n"
     ]
    }
   ],
   "source": [
    "\n",
    "n = int(input())\n",
    "List = [int(x+1) for x in range(n)]\n",
    "A = list(map(int, input().split()))\n",
    "\n",
    "flag = True\n",
    "if len(set(A)) != n:\n",
    "  flag = False\n",
    "\n",
    "for a in A:\n",
    "  if a not in List:\n",
    "    flag = False\n",
    "    break\n",
    "\n",
    "if flag:\n",
    "  print('Yes')\n",
    "else:\n",
    "  print('No')"
   ]
  },
  {
   "cell_type": "code",
   "execution_count": null,
   "metadata": {},
   "outputs": [
    {
     "name": "stdout",
     "output_type": "stream",
     "text": [
      "25\n"
     ]
    }
   ],
   "source": [
    "n = int(input())\n",
    "A = list(map(int, input().split()))\n",
    "\n",
    "kinomi = 0\n",
    "for a in A:\n",
    "  if a > 10:\n",
    "    kinomi += (a - 10)\n",
    "\n",
    "print(kinomi)\n"
   ]
  },
  {
   "cell_type": "code",
   "execution_count": null,
   "metadata": {},
   "outputs": [
    {
     "name": "stdout",
     "output_type": "stream",
     "text": [
      "1818\n"
     ]
    }
   ],
   "source": [
    "n, k  = map(int, input().split())\n",
    "\n",
    "ans_list = []\n",
    "for i in range(1, n+1):\n",
    "  for j in range(1, k+1):\n",
    "    m = i*100 + j\n",
    "    ans_list.append(m)\n",
    "\n",
    "print(sum (ans_list))"
   ]
  },
  {
   "cell_type": "code",
   "execution_count": null,
   "metadata": {},
   "outputs": [
    {
     "name": "stdout",
     "output_type": "stream",
     "text": [
      "6881090\n"
     ]
    }
   ],
   "source": [
    "S = list(input())\n",
    "\n",
    "for i in range(len(S)):\n",
    "  if S[i] == '6':\n",
    "    S[i] = '9'\n",
    "  elif S[i] == '9':\n",
    "    S[i] = '6'\n",
    "\n",
    "S.reverse()\n",
    "ans = ''\n",
    "for s in S:\n",
    "  ans += s\n",
    "print(ans)"
   ]
  },
  {
   "cell_type": "code",
   "execution_count": null,
   "metadata": {},
   "outputs": [
    {
     "name": "stdout",
     "output_type": "stream",
     "text": [
      "K2\n"
     ]
    }
   ],
   "source": [
    "n = int(input())\n",
    "\n",
    "S = []\n",
    "T = []\n",
    "\n",
    "for _ in range(n):\n",
    "  s, t = map(str, input().split())\n",
    "  S.append(s)\n",
    "  T.append(int(t))\n",
    "\n",
    "max_index = T.index(max(T))\n",
    "del T[max_index]\n",
    "del S[max_index]\n",
    "\n",
    "ans_index = T.index(max(T))\n",
    "print(S[ans_index])\n"
   ]
  },
  {
   "cell_type": "code",
   "execution_count": null,
   "metadata": {},
   "outputs": [
    {
     "name": "stdout",
     "output_type": "stream",
     "text": [
      "No\n"
     ]
    }
   ],
   "source": [
    "from collections import deque\n",
    "n = int(input())\n",
    "\n",
    "S = []\n",
    "\n",
    "for _ in range(n):\n",
    "    s = list(input())\n",
    "    S.append(s)\n",
    "\n",
    "\n",
    "def check(y, x):\n",
    "    ans = []\n",
    "    if 0 <= x + 5 < n:\n",
    "        num = 0\n",
    "        for dx in range(x, x+6):\n",
    "            if S[y][dx] == '#':\n",
    "                num += 1\n",
    "        ans.append(num)\n",
    "    if 0 <= x-5 < n:\n",
    "        num = 0\n",
    "        for dx in range(x-5, x+1):\n",
    "            if S[y][dx] == '#':\n",
    "                num += 1\n",
    "        ans.append(num)\n",
    "\n",
    "    if 0 <= y + 5 < n:\n",
    "        num = 0\n",
    "        for dy in range(y, y+6):\n",
    "            if S[dy][x] == '#':\n",
    "                num += 1\n",
    "        ans.append(num)\n",
    "    if 0 <= y-5 < n:\n",
    "        num = 0\n",
    "        for dy in range(y-5, y+1):\n",
    "            if S[dy][x] == '#':\n",
    "                num += 1\n",
    "        ans.append(num)\n",
    "\n",
    "    if 0 <= x + 5 < n and 0 <= y+5 < n:\n",
    "        num = 0\n",
    "        for dx in range(6):\n",
    "            if S[y+dx][x+dx] == '#':\n",
    "                num += 1\n",
    "        ans.append(num)\n",
    "    if 0 <= x-5 < n and 0 <= y+5 < n:\n",
    "        num = 0\n",
    "        for dx in range(-5, 1):\n",
    "            if S[y-dx][x+dx] == '#':\n",
    "                num += 1\n",
    "        ans.append(num)\n",
    "\n",
    "    if 0 <= y - 5 < n and 0 <= x-5 < n:\n",
    "        num = 0\n",
    "        for dy in range(-5, 1):\n",
    "            if S[y+dy][x+dy] == '#':\n",
    "                num += 1\n",
    "        ans.append(num)\n",
    "    if 0 <= y-5 < n and 0 <= x+5 < n:\n",
    "        num = 0\n",
    "        for dy in range(6):\n",
    "            if S[y-dy][x+dy] == '#':\n",
    "                num += 1\n",
    "        ans.append(num)\n",
    "\n",
    "    return ans\n",
    "\n",
    "\n",
    "ans = []\n",
    "for i in range(n):\n",
    "  for j in range(n):\n",
    "    res = check(i, j)\n",
    "    ans.append(res)\n",
    "\n",
    "ans = sum(ans, [])\n",
    "\n",
    "if 4 in res or 5 in res or 6 in res:\n",
    "  print('Yes')\n",
    "else:\n",
    "  print('No')\n"
   ]
  },
  {
   "cell_type": "code",
   "execution_count": null,
   "metadata": {},
   "outputs": [
    {
     "name": "stdout",
     "output_type": "stream",
     "text": [
      "Yes\n",
      "No\n"
     ]
    },
    {
     "ename": "",
     "evalue": "",
     "output_type": "error",
     "traceback": [
      "\u001b[1;31mThe Kernel crashed while executing code in the the current cell or a previous cell. Please review the code in the cell(s) to identify a possible cause of the failure. Click <a href='https://aka.ms/vscodeJupyterKernelCrash'>here</a> for more info. View Jupyter <a href='command:jupyter.viewOutput'>log</a> for further details."
     ]
    }
   ],
   "source": [
    "n = int(input())\n",
    "\n",
    "S = []\n",
    "\n",
    "for _ in range(n):\n",
    "    s = list(input())\n",
    "    S.append(s)\n",
    "\n",
    "def searchRight(y, x):\n",
    "  count = 0\n",
    "  for i in range(6):\n",
    "    if S[y][x+i] == '#':\n",
    "      count += 1\n",
    "\n",
    "  return count\n",
    "\n",
    "def searchLeft(y, x):\n",
    "  count = 0\n",
    "  for i in range(6):\n",
    "    if S[y][x-i] == '#':\n",
    "      count += 1\n",
    "\n",
    "  return count\n",
    "\n",
    "\n",
    "def searchTop(y, x):\n",
    "  count = 0\n",
    "  for i in range(6):\n",
    "    if S[y-i][x] == '#':\n",
    "      count += 1\n",
    "\n",
    "  return count\n",
    "\n",
    "def searchBottom(y, x):\n",
    "  count = 0\n",
    "  for i in range(6):\n",
    "    if S[y+i][x] == '#':\n",
    "      count += 1\n",
    "\n",
    "  return count\n",
    "\n",
    "def searchRightTop(y, x):\n",
    "  count = 0\n",
    "  for i in range(6):\n",
    "    if S[y-i][x+i] == '#':\n",
    "      count += 1\n",
    "\n",
    "  return count\n",
    "\n",
    "def searchRightBottom(y, x):\n",
    "  count = 0\n",
    "  for i in range(6):\n",
    "    if S[y+i][x+i] == '#':\n",
    "      count += 1\n",
    "\n",
    "  return count\n",
    "\n",
    "def searchLeftTop(y, x):\n",
    "  count = 0\n",
    "  for i in range(6):\n",
    "    if S[y-i][x-i] == '#':\n",
    "      count += 1\n",
    "\n",
    "  return count\n",
    "\n",
    "def searchLeftBottom(y, x):\n",
    "  count = 0\n",
    "  for i in range(6):\n",
    "    if S[y+i][x-i] == '#':\n",
    "      count += 1\n",
    "\n",
    "  return count\n",
    "\n",
    "for i in range(n):\n",
    "  for j in range(n):\n",
    "    if j + 5 < n:\n",
    "      if 4 <= searchRight(i, j):\n",
    "        print('Yes')\n",
    "        exit()\n",
    "\n",
    "    if i + 5 < n:\n",
    "      if 4 <= searchBottom(i, j):\n",
    "        print('Yes')\n",
    "        exit()\n",
    "    \n",
    "    if j + 5 < n and i+5 < n:\n",
    "      if 4 <= searchRightBottom(i, j):\n",
    "        print('Yes')\n",
    "        exit()\n",
    "      \n",
    "    if j + 5 < n and i-5 >= 0:\n",
    "      if 4 <= searchRightTop(i, j):\n",
    "        print('Yes')\n",
    "        exit()\n",
    "\n",
    "print('No')\n",
    "\n",
    "    "
   ]
  },
  {
   "cell_type": "code",
   "execution_count": null,
   "metadata": {},
   "outputs": [
    {
     "name": "stdout",
     "output_type": "stream",
     "text": [
      "No\n"
     ]
    }
   ],
   "source": [
    "n, x = map(int, input().split())\n",
    "\n",
    "A = []\n",
    "B = []\n",
    "\n",
    "\n",
    "for _ in range(n):\n",
    "  a, b = map(int, input().split())\n",
    "  A.append(a)\n",
    "  B.append(b)\n",
    "\n",
    "for i in range(2**n):\n",
    "  res = 0\n",
    "  for j in range(n):\n",
    "    if i >> j & 1:\n",
    "      res += A[j]\n",
    "    else:\n",
    "      res += B[j]\n",
    "\n",
    "    if res > x:\n",
    "      break\n",
    "\n",
    "  if res == x:\n",
    "    print('Yes')\n",
    "    exit()\n",
    "\n",
    "print('No')\n",
    "      "
   ]
  },
  {
   "cell_type": "code",
   "execution_count": null,
   "metadata": {},
   "outputs": [
    {
     "name": "stdout",
     "output_type": "stream",
     "text": [
      "{7}\n"
     ]
    }
   ],
   "source": [
    "n, x = map(int, input().split())\n",
    "\n",
    "A = []\n",
    "B = []\n",
    "\n",
    "dist = set()\n",
    "dist.add(0)\n",
    "\n",
    "for _ in range(n):\n",
    "  a, b = map(int, input().split())\n",
    "  new_dist = set()\n",
    "\n",
    "  for j in dist:\n",
    "    if j + a <= x:\n",
    "      new_dist.add(j+a)\n",
    "    if j + b <= x:\n",
    "      new_dist.add(j+b)\n",
    "\n",
    "  dist = new_dist\n",
    "\n",
    "\n",
    "if x in dist:\n",
    "  print('Yes')\n",
    "else:\n",
    "  print('No')\n",
    "\n",
    "\n"
   ]
  },
  {
   "cell_type": "code",
   "execution_count": null,
   "metadata": {},
   "outputs": [],
   "source": [
    "n, x = map(int, input().split())\n",
    "\n",
    "A = []\n",
    "B = []\n",
    "\n",
    "\n",
    "for _ in range(n):\n",
    "  a, b = map(int, input().split())\n",
    "  A.append(a)\n",
    "  B.append(b)\n",
    "\n",
    "for i in range(2**n):\n",
    "  res = 0\n",
    "  for j in range(n):\n",
    "    if i >> j & 1:\n",
    "      res += A[j]\n",
    "    else:\n",
    "      res += B[j]\n",
    "\n",
    "    if res > x:\n",
    "      break\n",
    "\n",
    "  if res == x:\n",
    "    print('Yes')\n",
    "    exit()\n",
    "\n",
    "print('No')\n",
    "      "
   ]
  },
  {
   "cell_type": "code",
   "execution_count": null,
   "metadata": {},
   "outputs": [],
   "source": [
    "x1, y1, x2, y2 = map(int, input().split())\n",
    " \n",
    "K1 = [[x1+2, y1+1], [x1+1, y1+2], [x1-1, y1+2], [x1-2, y1+1], [x1-2, y1-1], [x1-1, y1-2], [x1+1, y1-2], [x1+2, y1-1]]\n",
    " \n",
    "K2 = [[x2+2, y2+1], [x2+1, y2+2], [x2-1, y2+2], [x2-2, y2+1], [x2-2, y2-1], [x2-1, y2-2], [x2+1, y2-2], [x2+2, y2-1]]\n",
    " \n",
    "K1 = [str(x[0])+str(x[1]) for x in K1]\n",
    "K2 = [str(x[0])+str(x[1]) for x in K2]\n",
    " \n",
    "for k2 in K2:\n",
    "  if k2 in K1:\n",
    "    print('Yes')\n",
    "    exit()\n",
    " \n",
    "print('No')"
   ]
  },
  {
   "cell_type": "code",
   "execution_count": 6,
   "metadata": {},
   "outputs": [
    {
     "name": "stdout",
     "output_type": "stream",
     "text": [
      "762062362\n"
     ]
    }
   ],
   "source": [
    "n = int(input())\n",
    "\n",
    "nLen = len(str(n))\n",
    "\n",
    "ans = 0\n",
    "MOD = 998244353\n",
    "\n",
    "for i in range(nLen):\n",
    "  current_digit = i+1\n",
    "  bottom_num = 10 ** (current_digit-1)\n",
    "\n",
    "  if current_digit == nLen:\n",
    "    top_num = n+1\n",
    "  else:\n",
    "    top_num = 10 ** current_digit\n",
    "\n",
    "  N = (top_num - bottom_num)\n",
    "\n",
    "  ans += (N * (N+1)) // 2\n",
    "\n",
    "  ans %= MOD\n",
    "\n",
    "print(ans)"
   ]
  },
  {
   "cell_type": "code",
   "execution_count": 10,
   "metadata": {},
   "outputs": [
    {
     "name": "stdout",
     "output_type": "stream",
     "text": [
      "3\n",
      "4\n",
      "8\n",
      "8.916666666666666\n",
      "9.466666666666667\n",
      "9.466666666666667\n"
     ]
    }
   ],
   "source": [
    "n = int(input())\n",
    "\n",
    "A = []\n",
    "B = []\n",
    "V = []\n",
    "\n",
    "for i in range(n):\n",
    "  a, b = map(int, input().split())\n",
    "  A.append(a)\n",
    "  B.append(b)\n",
    "  V.append(a/b)\n",
    "\n",
    "T = sum(V) / 2\n",
    "t = 0\n",
    "ans = 0\n",
    "for i in range(n):\n",
    "  if t + V[i] <= T:\n",
    "    ans += A[i]\n",
    "    t += V[i]\n",
    "  elif t + V[i] > T:\n",
    "    ans += (T-t) * B[i]\n",
    "    break\n",
    "print(ans)\n",
    "\n"
   ]
  },
  {
   "cell_type": "code",
   "execution_count": 12,
   "metadata": {},
   "outputs": [
    {
     "name": "stdout",
     "output_type": "stream",
     "text": [
      "素数ではない\n"
     ]
    }
   ],
   "source": [
    "import math\n",
    "\n",
    "def is_prime(n):\n",
    "  sprt_n = math.ceil(math.sqrt(n))\n",
    "  for i in range(2, sprt_n):\n",
    "    if n % i == 0:\n",
    "      return False\n",
    "  return True\n",
    "\n",
    "res = is_prime(10)\n",
    "if res:\n",
    "  print('素数')\n",
    "else:\n",
    "  print('素数ではない')"
   ]
  },
  {
   "cell_type": "code",
   "execution_count": 15,
   "metadata": {},
   "outputs": [
    {
     "name": "stdout",
     "output_type": "stream",
     "text": [
      "2 3 5 7 11 5\n"
     ]
    }
   ],
   "source": [
    "import math\n",
    "\n",
    "def sieve_of_eratosthenes(n):\n",
    "  prime = [True for i in range(n+1)]\n",
    "  prime[0] = False\n",
    "  prime[1] = False\n",
    "\n",
    "  sqrt_n = math.ceil(math.sqrt(n))\n",
    "  for i in range(2, sqrt_n):\n",
    "    if prime[i]:\n",
    "      for j in range(2*i, n+1, i):\n",
    "        prime[j] = False\n",
    "\n",
    "\n",
    "  return prime\n",
    "\n",
    "n = int(input())\n",
    "prime = sieve_of_eratosthenes(n)\n",
    "\n",
    "for p in range(n+1):\n",
    "  if prime[p]:\n",
    "    print(p, end = ' ')\n",
    "\n",
    "print(sum(prime))"
   ]
  },
  {
   "cell_type": "code",
   "execution_count": 12,
   "metadata": {},
   "outputs": [
    {
     "name": "stdout",
     "output_type": "stream",
     "text": [
      "3\n"
     ]
    }
   ],
   "source": [
    "import bisect\n",
    "n, m = map(int, input().split())\n",
    "\n",
    "A = list(map(int, input().split()))\n",
    "\n",
    "B = list(map(int, input().split()))\n",
    "\n",
    "A.sort()\n",
    "\n",
    "ans = []\n",
    "for b in B:\n",
    "  index = bisect.bisect_left(A, b)\n",
    "\n",
    "  if index == 0:\n",
    "    ans.append(A[0]-b)\n",
    "  elif index == n:\n",
    "    ans.append(b-A[n-1])\n",
    "  else:\n",
    "    ans.append(min(b-A[index-1], A[index]-b))\n",
    "  \n",
    "print(min(ans))"
   ]
  },
  {
   "cell_type": "code",
   "execution_count": 55,
   "metadata": {},
   "outputs": [
    {
     "ename": "TypeError",
     "evalue": "_delete_dispatcher() got multiple values for argument 'axis'",
     "output_type": "error",
     "traceback": [
      "\u001b[0;31m---------------------------------------------------------------------------\u001b[0m",
      "\u001b[0;31mTypeError\u001b[0m                                 Traceback (most recent call last)",
      "\u001b[0;32m/var/folders/dk/82s_y4sn7nld93yfn_c7zxj40000gn/T/ipykernel_1118/1235642860.py\u001b[0m in \u001b[0;36m<module>\u001b[0;34m\u001b[0m\n\u001b[1;32m     17\u001b[0m \u001b[0;34m\u001b[0m\u001b[0m\n\u001b[1;32m     18\u001b[0m \u001b[0mnum\u001b[0m \u001b[0;34m=\u001b[0m \u001b[0;36m0\u001b[0m\u001b[0;34m\u001b[0m\u001b[0;34m\u001b[0m\u001b[0m\n\u001b[0;32m---> 19\u001b[0;31m \u001b[0mcard\u001b[0m \u001b[0;34m=\u001b[0m \u001b[0mnp\u001b[0m\u001b[0;34m.\u001b[0m\u001b[0mdelete\u001b[0m\u001b[0;34m(\u001b[0m\u001b[0mcard\u001b[0m\u001b[0;34m,\u001b[0m \u001b[0;36m1\u001b[0m\u001b[0;34m,\u001b[0m \u001b[0;36m2\u001b[0m\u001b[0;34m,\u001b[0m \u001b[0maxis\u001b[0m\u001b[0;34m=\u001b[0m\u001b[0;36m0\u001b[0m\u001b[0;34m)\u001b[0m\u001b[0;34m\u001b[0m\u001b[0;34m\u001b[0m\u001b[0m\n\u001b[0m",
      "\u001b[0;32m<__array_function__ internals>\u001b[0m in \u001b[0;36mdelete\u001b[0;34m(*args, **kwargs)\u001b[0m\n",
      "\u001b[0;31mTypeError\u001b[0m: _delete_dispatcher() got multiple values for argument 'axis'"
     ]
    }
   ],
   "source": [
    "import numpy as np\n",
    "import copy\n",
    "h, w, n = map(int, input().split())\n",
    "A = []\n",
    "B = []\n",
    "\n",
    "for i in range(n):\n",
    "  a, b = map(int, input().split())\n",
    "  A.append(a)\n",
    "  B.append(b)\n",
    "  \n",
    "card = [['*'] * w for _ in range(h)]\n",
    "card = np.array(card)\n",
    "\n",
    "for i in range(n):\n",
    "  card[A[i]-1][B[i]-1] = i+1\n",
    "\n",
    "num = 0\n",
    "card = np.delete(card, 1, 2, axis=0)"
   ]
  },
  {
   "cell_type": "code",
   "execution_count": 57,
   "metadata": {},
   "outputs": [
    {
     "name": "stdout",
     "output_type": "stream",
     "text": [
      "{2: 1, 3: 2}\n",
      "{2: 1, 5: 2}\n",
      "2 1\n",
      "1 2\n"
     ]
    }
   ],
   "source": [
    "h, w, n = map(int, input().split())\n",
    "\n",
    "a = set()\n",
    "b = set()\n",
    "c = []\n",
    "for i in range(n):\n",
    "  A, B = map(int, input().split())\n",
    "  a.add(A)\n",
    "  b.add(B)\n",
    "  c.append((A, B))\n",
    "  \n",
    "aa = {}\n",
    "for i, v in enumerate(sorted(a)):\n",
    "  aa[v]  = i+1\n",
    "  \n",
    "bb = {}\n",
    "for i, v in enumerate(sorted(b)):\n",
    "  bb[v] = i+1\n",
    "  \n",
    "\n",
    "result = []\n",
    "for x, y in c:\n",
    "  result.append('%d %d' % (aa[x], bb[y]))\n",
    "  \n",
    "print(*result, sep='\\n')"
   ]
  },
  {
   "cell_type": "code",
   "execution_count": 74,
   "metadata": {},
   "outputs": [
    {
     "name": "stdout",
     "output_type": "stream",
     "text": [
      "deque([0])\n",
      "deque([1, 9, 17])\n",
      "deque([1, 9, 18])\n",
      "deque([1, 9, 19])\n",
      "deque([1, 9, 20])\n",
      "deque([1, 9, 21])\n",
      "deque([1, 9, 22])\n",
      "deque([1, 9, 23])\n",
      "deque([1, 9])\n",
      "deque([1, 10, 18])\n",
      "deque([1, 10, 19])\n",
      "deque([1, 10, 20])\n",
      "deque([1, 10, 21])\n",
      "deque([1, 10, 22])\n",
      "deque([1, 10, 23])\n",
      "deque([1, 10])\n",
      "deque([1, 11, 19])\n",
      "deque([1, 11, 20])\n",
      "deque([1, 11, 21])\n",
      "deque([1, 11, 22])\n",
      "deque([1, 11, 23])\n",
      "deque([1, 11])\n",
      "deque([1, 12, 20])\n",
      "deque([1, 12, 21])\n",
      "deque([1, 12, 22])\n",
      "deque([1, 12, 23])\n",
      "deque([1, 12])\n",
      "deque([1, 13, 21])\n",
      "deque([1, 13, 22])\n",
      "deque([1, 13, 23])\n",
      "deque([1, 13])\n",
      "deque([1, 14, 22])\n",
      "deque([1, 14, 23])\n",
      "deque([1, 14])\n",
      "deque([1, 15, 23])\n",
      "deque([1, 15])\n",
      "deque([1])\n",
      "deque([2, 10, 18])\n",
      "deque([2, 10, 19])\n",
      "deque([2, 10, 20])\n",
      "deque([2, 10, 21])\n",
      "deque([2, 10, 22])\n",
      "deque([2, 10, 23])\n",
      "deque([2, 10])\n",
      "deque([2, 11, 19])\n",
      "deque([2, 11, 20])\n",
      "deque([2, 11, 21])\n",
      "deque([2, 11, 22])\n",
      "deque([2, 11, 23])\n",
      "deque([2, 11])\n",
      "deque([2, 12, 20])\n",
      "deque([2, 12, 21])\n",
      "deque([2, 12, 22])\n",
      "deque([2, 12, 23])\n",
      "deque([2, 12])\n",
      "deque([2, 13, 21])\n",
      "deque([2, 13, 22])\n",
      "deque([2, 13, 23])\n",
      "deque([2, 13])\n",
      "deque([2, 14, 22])\n",
      "deque([2, 14, 23])\n",
      "deque([2, 14])\n",
      "deque([2, 15, 23])\n",
      "deque([2, 15])\n",
      "deque([2])\n",
      "deque([3, 11, 19])\n",
      "deque([3, 11, 20])\n",
      "deque([3, 11, 21])\n",
      "deque([3, 11, 22])\n",
      "deque([3, 11, 23])\n",
      "deque([3, 11])\n",
      "deque([3, 12, 20])\n",
      "deque([3, 12, 21])\n",
      "deque([3, 12, 22])\n",
      "deque([3, 12, 23])\n",
      "deque([3, 12])\n",
      "deque([3, 13, 21])\n",
      "deque([3, 13, 22])\n",
      "deque([3, 13, 23])\n",
      "deque([3, 13])\n",
      "deque([3, 14, 22])\n",
      "deque([3, 14, 23])\n",
      "deque([3, 14])\n",
      "deque([3, 15, 23])\n",
      "deque([3, 15])\n",
      "deque([3])\n",
      "deque([4, 12, 20])\n",
      "deque([4, 12, 21])\n",
      "deque([4, 12, 22])\n",
      "deque([4, 12, 23])\n",
      "deque([4, 12])\n",
      "deque([4, 13, 21])\n",
      "deque([4, 13, 22])\n",
      "deque([4, 13, 23])\n",
      "deque([4, 13])\n",
      "deque([4, 14, 22])\n",
      "deque([4, 14, 23])\n",
      "deque([4, 14])\n",
      "deque([4, 15, 23])\n",
      "deque([4, 15])\n",
      "deque([4])\n",
      "deque([5, 13, 21])\n",
      "deque([5, 13, 22])\n",
      "deque([5, 13, 23])\n",
      "deque([5, 13])\n",
      "deque([5, 14, 22])\n",
      "deque([5, 14, 23])\n",
      "deque([5, 14])\n",
      "deque([5, 15, 23])\n",
      "deque([5, 15])\n",
      "deque([5])\n",
      "deque([6, 14, 22])\n",
      "deque([6, 14, 23])\n",
      "deque([6, 14])\n",
      "deque([6, 15, 23])\n",
      "deque([6, 15])\n",
      "deque([6])\n",
      "deque([7, 15, 23])\n",
      "deque([7, 15])\n",
      "deque([7])\n",
      "deque([8])\n",
      "deque([9, 17])\n",
      "deque([9, 18])\n",
      "deque([9, 19])\n",
      "deque([9, 20])\n",
      "deque([9, 21])\n",
      "deque([9, 22])\n",
      "deque([9, 23])\n",
      "deque([9])\n",
      "deque([10, 18])\n",
      "deque([10, 19])\n",
      "deque([10, 20])\n",
      "deque([10, 21])\n",
      "deque([10, 22])\n",
      "deque([10, 23])\n",
      "deque([10])\n",
      "deque([11, 19])\n",
      "deque([11, 20])\n",
      "deque([11, 21])\n",
      "deque([11, 22])\n",
      "deque([11, 23])\n",
      "deque([11])\n",
      "deque([12, 20])\n",
      "deque([12, 21])\n",
      "deque([12, 22])\n",
      "deque([12, 23])\n",
      "deque([12])\n",
      "deque([13, 21])\n",
      "deque([13, 22])\n",
      "deque([13, 23])\n",
      "deque([13])\n",
      "deque([14, 22])\n",
      "deque([14, 23])\n",
      "deque([14])\n",
      "deque([15, 23])\n",
      "deque([15])\n",
      "deque([16])\n",
      "deque([17])\n",
      "deque([18])\n",
      "deque([19])\n",
      "deque([20])\n",
      "deque([21])\n",
      "deque([22])\n",
      "deque([23])\n",
      "45\n"
     ]
    }
   ],
   "source": [
    "from collections import deque\n",
    "s = list(input())\n",
    "ok = list('chokudai')\n",
    "mod = 10**9 + 7\n",
    "\n",
    "ans = 0\n",
    "\n",
    "def dfs(i):\n",
    "  que = deque()\n",
    "  que.append(i)\n",
    "  \n",
    "  ans = 0\n",
    "  while len(que) != 0:\n",
    "    \n",
    "    p = que.pop()\n",
    "\n",
    "    if s[p] == 'i':\n",
    "      ans += 1\n",
    "    else:\n",
    "      ok_ele = ok[ok.index(s[p])+1]\n",
    "      for j in range(p+1, len(s)):\n",
    "        if s[j] == ok_ele:\n",
    "          que.append(j)\n",
    "        \n",
    "  return ans\n",
    "\n",
    "result = 0\n",
    "for i in range(len(s)):\n",
    "  if s[i] == 'c':\n",
    "    res = dfs(i)\n",
    "    result += res\n",
    "    \n",
    "print(result)"
   ]
  },
  {
   "cell_type": "code",
   "execution_count": 76,
   "metadata": {},
   "outputs": [
    {
     "name": "stdout",
     "output_type": "stream",
     "text": [
      "3\n"
     ]
    }
   ],
   "source": [
    "s = input()\n",
    "tar = 'chokudai'\n",
    "mod = 10 **9 +7\n",
    "dp = [[0 for _ in range(len(tar)+1)] for _ in range(len(s)+1)]\n",
    "\n",
    "for i in range(len(s)+1):\n",
    "  dp[i][0] = 1\n",
    "  \n",
    "for i in range(len(s)):\n",
    "  for j in range(len(tar)):\n",
    "    if s[i] != tar[j]:\n",
    "      dp[i+1][j+1] = dp[i][j+1]\n",
    "    if s[i] == tar[j]:\n",
    "      dp[i+1][j+1] = (dp[i][j+1] + dp[i][j]) % mod\n",
    "      \n",
    "print(dp[len(s)][8])"
   ]
  },
  {
   "cell_type": "code",
   "execution_count": 80,
   "metadata": {},
   "outputs": [
    {
     "name": "stdout",
     "output_type": "stream",
     "text": [
      "4\n"
     ]
    }
   ],
   "source": [
    "n, k = map(int, input().split())\n",
    "\n",
    "C = list(map(int, input().split()))\n",
    "\n",
    "ans = []\n",
    "for i in range(n-k+1):\n",
    "  select = C[i:i+k]\n",
    "  # select = set(select)\n",
    "  # ans.append(len(select))\n",
    "  \n",
    "# print(max(ans))"
   ]
  },
  {
   "cell_type": "code",
   "execution_count": null,
   "metadata": {},
   "outputs": [],
   "source": [
    "n, k = map(int, input().split())\n",
    "\n",
    "c = list(map(int, input().split()))\n",
    "\n",
    "kinds = {}\n",
    "\n",
    "for i in range(0, k):\n",
    "  if kinds.get(c[i]) is None:\n",
    "    kinds[c[i]] = 1\n",
    "  else:\n",
    "    kinds[c[i]] += 1\n",
    "    \n",
    "ans = len(kinds)\n",
    "\n",
    "for i in range(0, n-k):\n",
    "  kinds[c[i]] -= 1\n",
    "  if kinds[c[i]] == 0:\n",
    "    kinds.pop(c[i])\n",
    "  if kinds.get(c[i+k]) is None:\n",
    "    kinds[c[i+k]] = 1\n",
    "  else:\n",
    "    kinds[c[i+k]] += 1\n",
    "    \n",
    "  ans = max(ans, len(kinds))\n",
    "  \n",
    "print(ans)"
   ]
  },
  {
   "cell_type": "code",
   "execution_count": 94,
   "metadata": {},
   "outputs": [
    {
     "name": "stdout",
     "output_type": "stream",
     "text": [
      "405924645\n"
     ]
    }
   ],
   "source": [
    "n = int(input())\n",
    "\n",
    "C = list(map(int, input().split()))\n",
    "mod = int(10 ** 9) + 7\n",
    "Dict = dict()\n",
    "\n",
    "C.sort()\n",
    "ans = 1\n",
    "flag = 0\n",
    "for c in C:\n",
    "  ans *= (c-flag)\n",
    "  ans %= mod\n",
    "  flag += 1\n",
    "  \n",
    "    \n",
    "    \n",
    "print(ans % mod)\n",
    "    "
   ]
  },
  {
   "cell_type": "code",
   "execution_count": 107,
   "metadata": {},
   "outputs": [
    {
     "name": "stdout",
     "output_type": "stream",
     "text": [
      "3\n"
     ]
    }
   ],
   "source": [
    "n, k = map(int, input().split())\n",
    "\n",
    "A = list(map(int, input().split()))\n",
    "\n",
    "give = k // n\n",
    "amari = k % n\n",
    "\n",
    "A_number = sorted(A)\n",
    "if amari >= 1:\n",
    "  sakai = A_number[amari-1]\n",
    "else:\n",
    "  sakai = 0\n",
    "\n",
    "for a in A:\n",
    "  if a <= sakai:\n",
    "    print(give+1)\n",
    "  else:\n",
    "    print(give)\n"
   ]
  },
  {
   "cell_type": "code",
   "execution_count": 108,
   "metadata": {},
   "outputs": [
    {
     "name": "stdout",
     "output_type": "stream",
     "text": [
      "3\n"
     ]
    }
   ],
   "source": [
    "n = int(input())\n",
    "\n",
    "def fib(n):\n",
    "  if n == 0:\n",
    "    return 1\n",
    "  elif n == 1:\n",
    "    return 1\n",
    "  else:\n",
    "    return fib(n-1) + fib(n-2)\n",
    "  \n",
    "print(fib(n))\n",
    "  "
   ]
  },
  {
   "cell_type": "code",
   "execution_count": 113,
   "metadata": {},
   "outputs": [
    {
     "name": "stdout",
     "output_type": "stream",
     "text": [
      "3\n"
     ]
    }
   ],
   "source": [
    "n = int(input())\n",
    "\n",
    "dp = [0] * (n+1)\n",
    "\n",
    "dp[0] = dp[1] = 1\n",
    "\n",
    "for i in range(n-1):\n",
    "  dp[i+2] = dp[i] + dp[i+1]\n",
    "  \n",
    "print(dp[n])"
   ]
  },
  {
   "cell_type": "code",
   "execution_count": 114,
   "metadata": {},
   "outputs": [
    {
     "name": "stdout",
     "output_type": "stream",
     "text": [
      "13\n"
     ]
    }
   ],
   "source": [
    "n, w = map(int, input().split())\n",
    "V= []\n",
    "W = []\n",
    "for i in range(n):\n",
    "  v_, w_ = map(int, input().split())\n",
    "  V.append(v_)\n",
    "  W.append(w_)\n",
    "  \n",
    "dp = [[0] * (w+1) for _ in range(n+1)]\n",
    "for i in range(n):\n",
    "  for j in range(w+1):\n",
    "    if j-W[i] >= 0:\n",
    "      dp[i+1][j] = max(dp[i][j-W[i]]+V[i], dp[i][j])\n",
    "    else:\n",
    "      dp[i+1][j] = dp[i][j]\n",
    "      \n",
    "print(dp[n][w])\n",
    "                       "
   ]
  },
  {
   "cell_type": "code",
   "execution_count": 3,
   "metadata": {},
   "outputs": [
    {
     "name": "stdout",
     "output_type": "stream",
     "text": [
      "21\n"
     ]
    }
   ],
   "source": [
    "n, w = map(int, input().split())\n",
    "\n",
    "V = []\n",
    "W = []\n",
    "\n",
    "for i in range(n):\n",
    "  v, w_ = map(int, input().split())\n",
    "  V.append(v)\n",
    "  W.append(w_)\n",
    "  \n",
    "dp = [[0] * (w+1) for _ in range(n+1)]\n",
    "\n",
    "for i in range(n):\n",
    "  for j in range(w+1):\n",
    "    if j - W[i] >= 0:\n",
    "      dp[i+1][j] = max(dp[i+1][j-W[i]] + V[i], dp[i][j])\n",
    "    else:\n",
    "      dp[i+1][j] = dp[i][j]\n",
    "      \n",
    "print(dp[n][w])"
   ]
  },
  {
   "cell_type": "code",
   "execution_count": 7,
   "metadata": {},
   "outputs": [
    {
     "name": "stdout",
     "output_type": "stream",
     "text": [
      "[[0, 1000000000, 1000000000, 1000000000, 1000000000, 1000000000, 1000000000, 1000000000, 1000000000, 1000000000, 1000000000, 1000000000, 1000000000, 1000000000, 1000000000, 1000000000], [0, 1, 2, 3, 4, 5, 6, 7, 8, 9, 10, 11, 12, 13, 14, 15], [0, 1, 1, 2, 2, 3, 3, 4, 4, 5, 5, 6, 6, 7, 7, 8], [0, 1, 1, 2, 2, 3, 3, 1, 2, 2, 3, 3, 4, 4, 2, 3], [0, 1, 1, 2, 2, 3, 3, 1, 1, 2, 2, 3, 3, 4, 2, 2], [0, 1, 1, 2, 2, 3, 3, 1, 1, 2, 2, 3, 1, 2, 2, 2], [0, 1, 1, 2, 2, 3, 3, 1, 1, 2, 2, 3, 1, 2, 2, 2]]\n",
      "2\n"
     ]
    }
   ],
   "source": [
    "n, m = map(int, input().split())\n",
    "\n",
    "C = list(map(int, input().split()))\n",
    "INF = int(1e9)\n",
    "dp = [[INF] * (n+1) for _ in range(m+1)]\n",
    "dp[0][0] = 0\n",
    "for i in range(m):\n",
    "  for j in range(n+1):\n",
    "    if j - C[i] >= 0:\n",
    "      dp[i+1][j] = min(dp[i+1][j-C[i]]+1, dp[i][j])\n",
    "    else:\n",
    "      dp[i+1][j] = dp[i][j]\n",
    "      \n",
    "print(dp[m][n])"
   ]
  },
  {
   "cell_type": "code",
   "execution_count": 12,
   "metadata": {},
   "outputs": [
    {
     "name": "stdout",
     "output_type": "stream",
     "text": [
      "4\n",
      "3\n",
      "2\n"
     ]
    }
   ],
   "source": [
    "Q = int(input())\n",
    "\n",
    "def lcs(x, y):\n",
    "  dp = [[0] * (len(x)+1) for _ in range(len(y)+1)]\n",
    "  for i in range(1, len(y)+1):\n",
    "    for j in range(1, len(x)+1):\n",
    "      if x[j-1] == y[i-1]:\n",
    "        dp[i][j] = dp[i-1][j-1] + 1\n",
    "      else:\n",
    "        dp[i][j] = max(dp[i][j-1], dp[i-1][j])\n",
    "  return dp[-1][-1]\n",
    "\n",
    "ans = []\n",
    "\n",
    "for q in range(Q):\n",
    "  x = list(input())\n",
    "  y = list(input())\n",
    "  ans.append(lcs(x, y))\n",
    "  \n",
    "for a in ans:\n",
    "  print(a)"
   ]
  },
  {
   "cell_type": "code",
   "execution_count": 20,
   "metadata": {},
   "outputs": [
    {
     "name": "stdout",
     "output_type": "stream",
     "text": [
      "2\n"
     ]
    }
   ],
   "source": [
    "\n",
    "N = int(input())\n",
    "tlr = [map(int, input(().split()) for _ in range(N)]\n",
    "\n",
    "lr = []\n",
    "for t, l, r in tlr:\n",
    "    if t == 1:\n",
    "        lr.append((l, r))\n",
    "    elif t == 2:\n",
    "        lr.append((l, r - 0.1))\n",
    "    elif t == 3:\n",
    "        lr.append((l + 0.1, r))\n",
    "    elif t == 4:\n",
    "        lr.append((l + 0.1, r - 0.1))\n",
    "\n",
    "result = 0\n",
    "for i in range(N):\n",
    "    for j in range(i + 1, N):\n",
    "        a, b = lr[i]\n",
    "        c, d = lr[j]\n",
    "        if c > b or d < a:\n",
    "            continue\n",
    "        result += 1\n",
    "print(result)"
   ]
  },
  {
   "cell_type": "code",
   "execution_count": 13,
   "metadata": {},
   "outputs": [
    {
     "name": "stdout",
     "output_type": "stream",
     "text": [
      "0\n"
     ]
    }
   ],
   "source": [
    "n = int(input())\n",
    "\n",
    "A_ = list(map(int, input().split()))\n",
    "B = list(map(int, input().split()))\n",
    "C_ = list(map(int, input().split()))\n",
    "\n",
    "A = dict()\n",
    "C = dict()\n",
    "for i in range(n):\n",
    "  if A_[i] not in A:\n",
    "    A[A_[i]] = 1\n",
    "  else:\n",
    "    A[A_[i]] += 1\n",
    "  if C_[i] not in C:\n",
    "    C[C_[i]] = 1\n",
    "  else:\n",
    "    C[C_[i]] += 1\n",
    "    \n",
    "ans = 0\n",
    "for i, b in enumerate(B):\n",
    "  if b in A.keys() and (i+1) in C:\n",
    "    ans += A[b] * C[i+1]\n",
    "    \n",
    "print(ans)"
   ]
  },
  {
   "cell_type": "code",
   "execution_count": 12,
   "metadata": {},
   "outputs": [
    {
     "name": "stdout",
     "output_type": "stream",
     "text": [
      "dict_keys([3, 1, 2])\n"
     ]
    },
    {
     "ename": "KeyError",
     "evalue": "4",
     "output_type": "error",
     "traceback": [
      "\u001b[0;31m---------------------------------------------------------------------------\u001b[0m",
      "\u001b[0;31mKeyError\u001b[0m                                  Traceback (most recent call last)",
      "\u001b[0;32m/var/folders/dk/82s_y4sn7nld93yfn_c7zxj40000gn/T/ipykernel_32169/2088266877.py\u001b[0m in \u001b[0;36m<module>\u001b[0;34m\u001b[0m\n\u001b[1;32m      2\u001b[0m \u001b[0mprint\u001b[0m\u001b[0;34m(\u001b[0m\u001b[0mDict\u001b[0m\u001b[0;34m.\u001b[0m\u001b[0mkeys\u001b[0m\u001b[0;34m(\u001b[0m\u001b[0;34m)\u001b[0m\u001b[0;34m)\u001b[0m\u001b[0;34m\u001b[0m\u001b[0;34m\u001b[0m\u001b[0m\n\u001b[1;32m      3\u001b[0m \u001b[0;34m\u001b[0m\u001b[0m\n\u001b[0;32m----> 4\u001b[0;31m \u001b[0mprint\u001b[0m\u001b[0;34m(\u001b[0m\u001b[0mDict\u001b[0m\u001b[0;34m[\u001b[0m\u001b[0;36m4\u001b[0m\u001b[0;34m]\u001b[0m\u001b[0;34m)\u001b[0m\u001b[0;34m\u001b[0m\u001b[0;34m\u001b[0m\u001b[0m\n\u001b[0m",
      "\u001b[0;31mKeyError\u001b[0m: 4"
     ]
    }
   ],
   "source": [
    "Dict = {3: 1, 1: 1, 2: 1}\n",
    "print(Dict.keys())\n",
    "\n",
    "print(Dict[4])\n"
   ]
  },
  {
   "cell_type": "code",
   "execution_count": 39,
   "metadata": {},
   "outputs": [
    {
     "ename": "ValueError",
     "evalue": "r must be non-negative",
     "output_type": "error",
     "traceback": [
      "\u001b[0;31m---------------------------------------------------------------------------\u001b[0m",
      "\u001b[0;31mValueError\u001b[0m                                Traceback (most recent call last)",
      "\u001b[0;32m/var/folders/dk/82s_y4sn7nld93yfn_c7zxj40000gn/T/ipykernel_32169/1512842324.py\u001b[0m in \u001b[0;36m<module>\u001b[0;34m\u001b[0m\n\u001b[1;32m     18\u001b[0m \u001b[0;34m\u001b[0m\u001b[0m\n\u001b[1;32m     19\u001b[0m \u001b[0mans\u001b[0m \u001b[0;34m=\u001b[0m \u001b[0;36m0\u001b[0m\u001b[0;34m\u001b[0m\u001b[0;34m\u001b[0m\u001b[0m\n\u001b[0;32m---> 20\u001b[0;31m \u001b[0mnum_list\u001b[0m \u001b[0;34m=\u001b[0m \u001b[0mlist\u001b[0m\u001b[0;34m(\u001b[0m\u001b[0mset\u001b[0m\u001b[0;34m(\u001b[0m\u001b[0mlist\u001b[0m\u001b[0;34m(\u001b[0m\u001b[0mitertools\u001b[0m\u001b[0;34m.\u001b[0m\u001b[0mcombinations\u001b[0m\u001b[0;34m(\u001b[0m\u001b[0mcan\u001b[0m\u001b[0;34m,\u001b[0m \u001b[0;36m4\u001b[0m\u001b[0;34m-\u001b[0m\u001b[0mlen\u001b[0m\u001b[0;34m(\u001b[0m\u001b[0mIn\u001b[0m\u001b[0;34m)\u001b[0m\u001b[0;34m)\u001b[0m\u001b[0;34m)\u001b[0m\u001b[0;34m)\u001b[0m\u001b[0;34m)\u001b[0m\u001b[0;34m\u001b[0m\u001b[0;34m\u001b[0m\u001b[0m\n\u001b[0m\u001b[1;32m     21\u001b[0m \u001b[0;32mfor\u001b[0m \u001b[0mi\u001b[0m \u001b[0;32min\u001b[0m \u001b[0mrange\u001b[0m\u001b[0;34m(\u001b[0m\u001b[0mlen\u001b[0m\u001b[0;34m(\u001b[0m\u001b[0mnum_list\u001b[0m\u001b[0;34m)\u001b[0m\u001b[0;34m)\u001b[0m\u001b[0;34m:\u001b[0m\u001b[0;34m\u001b[0m\u001b[0;34m\u001b[0m\u001b[0m\n\u001b[1;32m     22\u001b[0m   \u001b[0mnum_list\u001b[0m\u001b[0;34m[\u001b[0m\u001b[0mi\u001b[0m\u001b[0;34m]\u001b[0m \u001b[0;34m=\u001b[0m \u001b[0mIn\u001b[0m \u001b[0;34m+\u001b[0m \u001b[0mlist\u001b[0m\u001b[0;34m(\u001b[0m\u001b[0mnum_list\u001b[0m\u001b[0;34m[\u001b[0m\u001b[0mi\u001b[0m\u001b[0;34m]\u001b[0m\u001b[0;34m)\u001b[0m\u001b[0;34m\u001b[0m\u001b[0;34m\u001b[0m\u001b[0m\n",
      "\u001b[0;31mValueError\u001b[0m: r must be non-negative"
     ]
    }
   ],
   "source": [
    "import itertools\n",
    "S = list(input())\n",
    "\n",
    "can = []\n",
    "In = []\n",
    "\n",
    "for i, s in enumerate(S):\n",
    "  if s == 'o':\n",
    "    In.append(i)\n",
    "    can.append(i)\n",
    "    can.append(i)\n",
    "    can.append(i)\n",
    "  elif s == '?':\n",
    "    can.append(i)\n",
    "    can.append(i)\n",
    "    can.append(i)\n",
    "    can.append(i)\n",
    "    \n",
    "if len(In) > 4:\n",
    "  print(0)\n",
    "  exit()\n",
    "ans = 0\n",
    "num_list = list(set(list(itertools.combinations(can, 4-len(In)))))\n",
    "for i in range(len(num_list)):\n",
    "  num_list[i] = In + list(num_list[i])\n",
    "  \n",
    "for num in num_list:\n",
    "  Len = len(set(list(itertools.permutations(num))))\n",
    "  ans += Len\n",
    "  \n",
    "print(ans)"
   ]
  },
  {
   "cell_type": "code",
   "execution_count": null,
   "metadata": {},
   "outputs": [],
   "source": [
    "import itertools\n",
    "n = int(input())\n",
    "\n",
    "A = list(map(int, input().split()))\n",
    "\n",
    "\n"
   ]
  }
 ],
 "metadata": {
  "interpreter": {
   "hash": "1176e4068bf541b489961802e9aeafa5203c41a0e9cf852e1d0c305accb63b10"
  },
  "kernelspec": {
   "display_name": "Python 3.9.7 ('base')",
   "language": "python",
   "name": "python3"
  },
  "language_info": {
   "codemirror_mode": {
    "name": "ipython",
    "version": 3
   },
   "file_extension": ".py",
   "mimetype": "text/x-python",
   "name": "python",
   "nbconvert_exporter": "python",
   "pygments_lexer": "ipython3",
   "version": "3.9.7"
  },
  "orig_nbformat": 4
 },
 "nbformat": 4,
 "nbformat_minor": 2
}
