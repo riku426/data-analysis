{
 "cells": [
  {
   "cell_type": "code",
   "execution_count": 1,
   "id": "4ee7ceb5",
   "metadata": {},
   "outputs": [
    {
     "name": "stdout",
     "output_type": "stream",
     "text": [
      "3 3\n",
      "1 3\n",
      "2 0\n",
      "3 4\n",
      "5\n"
     ]
    }
   ],
   "source": [
    "import heapq\n",
    "n, k =map(int, input().split())\n",
    "\n",
    "A = []\n",
    "B = []\n",
    "for i in range(n):\n",
    "    a, b = map(int, input().split())\n",
    "    heapq.heappush(A, (a, i))\n",
    "    B.append(b)\n",
    "    \n",
    "ans = 0\n",
    "for i in range(k):\n",
    "    tmp, j = heapq.heappop(A)\n",
    "    ans += tmp\n",
    "    heapq.heappush(A, (tmp+B[j], j))\n",
    "print(ans)"
   ]
  },
  {
   "cell_type": "code",
   "execution_count": 2,
   "id": "76545e81",
   "metadata": {},
   "outputs": [
    {
     "name": "stdout",
     "output_type": "stream",
     "text": [
      "3\n",
      "15\n",
      "15\n",
      "15\n",
      "1\n"
     ]
    }
   ],
   "source": [
    "\n",
    "n = int(input())\n",
    "\n",
    "D = set()\n",
    "for i in range(n):\n",
    "    d = int(input())\n",
    "    D.add(d)\n",
    "    \n",
    "ans = len(D)\n",
    "print(ans)"
   ]
  },
  {
   "cell_type": "code",
   "execution_count": 4,
   "id": "9d0b985d",
   "metadata": {},
   "outputs": [
    {
     "name": "stdout",
     "output_type": "stream",
     "text": [
      "3\n",
      "apple\n",
      "orange\n",
      "apple\n",
      "1\n",
      "grape\n",
      "2\n"
     ]
    }
   ],
   "source": [
    "n = int(input())\n",
    "\n",
    "S = [input() for _ in range(n)]\n",
    "\n",
    "m = int(input())\n",
    "\n",
    "T = [input() for _ in range(m)]\n",
    "\n",
    "Dict = {}\n",
    "\n",
    "for i in range(n):\n",
    "    Dict.setdefault(S[i], 0)\n",
    "    \n",
    "for j in range(m):\n",
    "    Dict.setdefault(T[j], 0)\n",
    "    \n",
    "for i in range(n):\n",
    "    Dict[S[i]] += 1\n",
    "    \n",
    "for j in range(m):\n",
    "    Dict[T[j]] -= 1\n",
    "    \n",
    "ans = 0\n",
    "for k in Dict.values():\n",
    "    ans = max(ans, k)\n",
    "    \n",
    "print(ans)"
   ]
  },
  {
   "cell_type": "code",
   "execution_count": 5,
   "id": "7635a930",
   "metadata": {},
   "outputs": [
    {
     "name": "stdout",
     "output_type": "stream",
     "text": [
      "125\n",
      "176\n"
     ]
    }
   ],
   "source": [
    "s = list(input())\n",
    "n = len(s)\n",
    "\n",
    "ans = 0\n",
    "\n",
    "for i in range(2**(n-1)):\n",
    "    tmp = 0\n",
    "    for j in range(n):\n",
    "        if i >> j & 1:\n",
    "            ans += tmp*10 + int(s[j])\n",
    "            tmp = 0\n",
    "        else:\n",
    "            tmp = tmp * 10 + int(s[j])\n",
    "            \n",
    "    ans += tmp\n",
    "print(ans)"
   ]
  },
  {
   "cell_type": "code",
   "execution_count": 4,
   "id": "0c189c7f",
   "metadata": {},
   "outputs": [
    {
     "name": "stdout",
     "output_type": "stream",
     "text": [
      "1222\n",
      "-5\n",
      "1-2-2-2\n",
      "-1\n",
      "1+2-2-2\n",
      "-1\n",
      "1-2+2-2\n",
      "3\n",
      "1+2+2-2\n",
      "-1\n",
      "1-2-2+2\n",
      "3\n",
      "1+2-2+2\n",
      "3\n",
      "1-2+2+2\n",
      "7\n",
      "1+2+2+2\n",
      "1+2+2+2=7\n"
     ]
    }
   ],
   "source": [
    "s = list(input())\n",
    "\n",
    "for i in range(2**(len(s)-1)):\n",
    "    ans = int(s[0])\n",
    "    tmp = s[0]\n",
    "    for j in range(0, len(s)-1):\n",
    "        if i>>j & 1:\n",
    "            ans += int(s[j+1])\n",
    "            tmp += '+' + s[j+1]\n",
    "        else:\n",
    "            ans -= int(s[j+1])\n",
    "            tmp += '-' + s[j+1]\n",
    "    if ans == 7:\n",
    "        tmp += '=7'\n",
    "        print(tmp)\n",
    "        break"
   ]
  },
  {
   "cell_type": "code",
   "execution_count": 7,
   "id": "884c484f",
   "metadata": {},
   "outputs": [
    {
     "name": "stdout",
     "output_type": "stream",
     "text": [
      "4\n",
      "4\n",
      "6\n",
      "7\n",
      "10\n",
      "[27, 23, 21, 17, 20, 16, 14, 17, 17, 14, 16, 20, 17, 21, 23, 27]\n",
      "14\n"
     ]
    }
   ],
   "source": [
    "n = int(input())\n",
    "t = []\n",
    "for _ in range(n):\n",
    "    t.append(int(input()))\n",
    "\n",
    "ans = []\n",
    "for i in range(2**n):\n",
    "    A = 0\n",
    "    B = 0\n",
    "    for j in range(n):\n",
    "        if i>>j & 1:\n",
    "            A += t[j]\n",
    "        else:\n",
    "            B += t[j]\n",
    "    ans.append(max(A, B))\n",
    "    \n",
    "print(min(ans))\n",
    "            "
   ]
  },
  {
   "cell_type": "code",
   "execution_count": 13,
   "id": "64829a46",
   "metadata": {},
   "outputs": [
    {
     "name": "stdout",
     "output_type": "stream",
     "text": [
      "12 0\n",
      "1\n"
     ]
    }
   ],
   "source": [
    "import itertools\n",
    "n, m = map(int, input().split())\n",
    "\n",
    "fri = [[0]*(n+1) for i in range(n+1)]\n",
    "for _ in range(m):\n",
    "    x, y = map(int, input().split())\n",
    "    fri[x][y] = 1\n",
    "    fri[y][x] = 1\n",
    "\n",
    "ans = 0\n",
    "for i in range(2**n):\n",
    "    team = []\n",
    "    for j in range(n):\n",
    "        if i >> j & 1:\n",
    "            team.append(j+1)\n",
    "    flag = True\n",
    "    for i in itertools.combinations(team, 2):\n",
    "        if fri[i[0]][i[1]] == 0:\n",
    "            flag = False\n",
    "            break\n",
    "    if flag:\n",
    "        ans = max(ans, len(team))\n",
    "print(ans)"
   ]
  },
  {
   "cell_type": "code",
   "execution_count": 17,
   "id": "8e30cc2d",
   "metadata": {},
   "outputs": [
    {
     "name": "stdout",
     "output_type": "stream",
     "text": [
      "4 4\n",
      "...s\n",
      "....\n",
      "....\n",
      ".g..\n",
      "Yes\n"
     ]
    }
   ],
   "source": [
    "from collections import deque\n",
    "h, w = map(int, input().split())\n",
    "\n",
    "load = []\n",
    "for _ in range(h):\n",
    "    c = list(input())\n",
    "    load.append(c)\n",
    "    \n",
    "for i in range(h):\n",
    "    for j in range(w):\n",
    "        if load[i][j] == 's':\n",
    "            sx = j\n",
    "            sy = i\n",
    "        if load[i][j] == 'g':\n",
    "            gx = j\n",
    "            gy = i\n",
    "INF = int(1e9)\n",
    "\n",
    "D = [[INF] * w for _ in range(h)]\n",
    "\n",
    "dx = [1, 0, -1, 0]\n",
    "dy = [0, 1, 0, -1]\n",
    "def dfs():\n",
    "    que = deque()\n",
    "    que.append([sy, sx])\n",
    "    D[sy][sx] = 1\n",
    "    while len(que) != 0:\n",
    "        p = que.pop()\n",
    "        if p[1] == gx and p[0] == gy:\n",
    "            break\n",
    "        for i in range(4):\n",
    "            nx = p[1] + dx[i]\n",
    "            ny = p[0] + dy[i]\n",
    "            if 0 <= ny < h and 0 <= nx < w and D[ny][nx] == INF and load[ny][nx] != '#':\n",
    "                que.append([ny, nx])\n",
    "                D[ny][nx] = 1\n",
    "    return\n",
    "\n",
    "dfs()\n",
    "if D[gy][gx] == 1:\n",
    "    print('Yes')\n",
    "else:\n",
    "    print('No')"
   ]
  },
  {
   "cell_type": "code",
   "execution_count": 27,
   "id": "dd208f31",
   "metadata": {},
   "outputs": [
    {
     "name": "stdout",
     "output_type": "stream",
     "text": [
      "5 1\n",
      "1 2\n",
      "4\n"
     ]
    }
   ],
   "source": [
    "from collections import deque\n",
    "n, m = map(int, input().split())\n",
    "u = []\n",
    "v = []\n",
    "\n",
    "for _ in range(m):\n",
    "    u_, v_ = map(int, input().split())\n",
    "    u.append(u_ - 1)\n",
    "    v.append(v_ - 1)\n",
    "    \n",
    "D = [0] * n\n",
    "ans = 0\n",
    "def dfs(i):\n",
    "    que = deque()\n",
    "    que.append(i)\n",
    "    flag = True\n",
    "    while len(que) != 0:\n",
    "        k = que.pop()\n",
    "        if D[k] != 0:\n",
    "            flag = False\n",
    "        else:\n",
    "            D[k] = 1\n",
    "            for j in range(m):\n",
    "                if u[j] == k and D[v[j]] == 0:\n",
    "                    que.append(v[j])\n",
    "                elif v[j] == k and D[u[j]] == 0:\n",
    "                    que.append(u[j])\n",
    "    return flag\n",
    "        \n",
    "for i in range(n):\n",
    "    if D[i] == 0:\n",
    "        if dfs(i):\n",
    "            ans += 1\n",
    "        \n",
    "print(ans)\n",
    "    \n"
   ]
  },
  {
   "cell_type": "code",
   "execution_count": 28,
   "id": "75668046",
   "metadata": {},
   "outputs": [
    {
     "name": "stdout",
     "output_type": "stream",
     "text": [
      "1 1\n",
      "0\n",
      "0\n",
      "2 2\n",
      "0 1\n",
      "1 0\n",
      "1\n",
      "0 0\n"
     ]
    }
   ],
   "source": [
    "import sys\n",
    "sys.setrecursionlimit(10**7)\n",
    "\n",
    "def dfs(y, x):\n",
    "    field[y][x] = 0\n",
    "    for dx in range(-1, 2):\n",
    "        for dy in range(-1, 2):\n",
    "            ny = y + dy\n",
    "            nx = x + dx\n",
    "            \n",
    "            if 0 <= nx < w and 0 <= ny < h and field[ny][nx] == 1:\n",
    "                dfs(ny, nx)\n",
    "                \n",
    "    return\n",
    "while True:\n",
    "    w, h = map(int, input().split())\n",
    "    if w == 0 and h == 0:\n",
    "        break\n",
    "    field = []\n",
    "    for _ in range(h):\n",
    "        c = list(map(int, input().split()))\n",
    "        field.append(c)\n",
    "    ans = 0\n",
    "    for i in range(h):\n",
    "        for j in range(w):\n",
    "            if field[i][j] == 1:\n",
    "                dfs(i, j)\n",
    "                ans += 1\n",
    "    print(ans)\n",
    "        \n"
   ]
  },
  {
   "cell_type": "code",
   "execution_count": 33,
   "id": "a35699ba",
   "metadata": {},
   "outputs": [
    {
     "name": "stdout",
     "output_type": "stream",
     "text": [
      "8 7\n",
      "1 2\n",
      "2 3\n",
      "2 4\n",
      "5 6\n",
      "6 7\n",
      "6 8\n",
      "7 8\n",
      "1\n"
     ]
    }
   ],
   "source": [
    "from collections import deque\n",
    "n, m = map(int, input().split())\n",
    "\n",
    "V = []\n",
    "U = []\n",
    "for _ in range(m):\n",
    "    v, u = map(int, input().split())\n",
    "    V.append(v-1)\n",
    "    U.append(u-1)\n",
    "\n",
    "D = [0] * n\n",
    "def dfs(i):\n",
    "    que = deque()\n",
    "    que.append(i)\n",
    "    flag = True\n",
    "    while len(que) != 0:\n",
    "        p = que.pop()\n",
    "        if D[p] != 0:\n",
    "            flag = False\n",
    "        else:\n",
    "            D[p] = 1\n",
    "            for j in range(m):\n",
    "                if V[j]==p and D[U[j]] == 0:\n",
    "                    que.append(U[j])\n",
    "                elif U[j]==p and D[V[j]] == 0:\n",
    "                    que.append(V[j])\n",
    "    return flag\n",
    "ans = 0\n",
    "for i in range(n):\n",
    "    if D[i] == 0:\n",
    "        if dfs(i):\n",
    "            ans += 1\n",
    "            \n",
    "print(ans)"
   ]
  },
  {
   "cell_type": "code",
   "execution_count": 11,
   "id": "b1649652",
   "metadata": {},
   "outputs": [
    {
     "name": "stdout",
     "output_type": "stream",
     "text": [
      "0\n"
     ]
    }
   ],
   "source": [
    "h, w = map(int, input().split())\n",
    "\n",
    "r, c = map(int, input().split())\n",
    "\n",
    "res = 4\n",
    "\n",
    "\n",
    "if r-1 == 0:\n",
    "  res -= 1\n",
    "if r + 1 == h + 1:\n",
    "  res -= 1\n",
    "if c - 1 == 0:\n",
    "  res -= 1\n",
    "if c + 1 == w + 1:\n",
    "  res -= 1\n",
    "print(res)"
   ]
  },
  {
   "cell_type": "code",
   "execution_count": 17,
   "id": "9f1a59e6",
   "metadata": {},
   "outputs": [
    {
     "name": "stdout",
     "output_type": "stream",
     "text": [
      "....\n",
      "....\n",
      "....\n",
      "....\n"
     ]
    }
   ],
   "source": [
    "n, a, b = map(int, input().split())\n",
    "\n",
    "w = '.'\n",
    "l = '#'\n",
    "\n",
    "row_1 = ''\n",
    "row_2 = ''\n",
    "for i in range(n):\n",
    "    if i % 2 == 0:\n",
    "        row_1 += w*b\n",
    "        row_2 += l*b\n",
    "    elif i % 2 == 1:\n",
    "        row_1 += l*b\n",
    "        row_2 += w*b\n",
    "\n",
    "for i in range(n):\n",
    "    for _ in range(a):\n",
    "        if i % 2 == 0:\n",
    "          print(row_1)\n",
    "        elif i % 2 == 1:\n",
    "          print(row_2)"
   ]
  },
  {
   "cell_type": "code",
   "execution_count": 33,
   "id": "9db7b846",
   "metadata": {},
   "outputs": [
    {
     "name": "stdout",
     "output_type": "stream",
     "text": [
      "1 2 3 5 4\n"
     ]
    }
   ],
   "source": [
    "n, q = map(int, input().split())\n",
    "num_list = [i+1 for i in range(n)]\n",
    "num_index = [i for i in range(n)]\n",
    "\n",
    "X = []\n",
    "for i in range(q):\n",
    "  X.append(int(input()))\n",
    "\n",
    "\n",
    "for i in range(q):\n",
    "  index = num_index[X[i]-1]\n",
    "  store_num = num_list[index]\n",
    "  store_index = index\n",
    "  if index != n-1:\n",
    "    num_list[index] = num_list[index+1]\n",
    "    num_list[index+1] = store_num\n",
    "    num_index[num_list[index]-1] -= 1\n",
    "    num_index[num_list[index+1]-1] += 1\n",
    "  elif index == n-1:\n",
    "    num_list[index] = num_list[index-1]\n",
    "    num_list[index-1] = store_num\n",
    "    num_index[num_list[index]-1] += 1\n",
    "    num_index[num_list[index-1]-1] -= 1\n",
    "  # print(*num_list)\n",
    "  # print(*num_index)\n",
    "\n",
    "\n",
    "print(*num_list)"
   ]
  },
  {
   "cell_type": "code",
   "execution_count": 66,
   "id": "7235000a",
   "metadata": {},
   "outputs": [
    {
     "name": "stdout",
     "output_type": "stream",
     "text": [
      "0\n"
     ]
    }
   ],
   "source": [
    "n = int(input())\n",
    "\n",
    "sosu = []\n",
    "for number1 in range(2, n//16):\n",
    "    count = 0\n",
    "    for number2 in range(1, number1):\n",
    "        number = number1 % number2\n",
    "        if number == 0:\n",
    "            count += 1\n",
    "    if count == 1:\n",
    "        sosu.append(number1)\n",
    "\n",
    "ans = 0\n",
    "for i in range(len(sosu)-1):\n",
    "    for j in range(i+1, len(sosu)):\n",
    "        if sosu[i] * sosu[j]**3 > n:\n",
    "            break\n",
    "        else:\n",
    "            ans += 1\n",
    "\n",
    "print(ans)\n"
   ]
  },
  {
   "cell_type": "code",
   "execution_count": 50,
   "id": "12112bd5",
   "metadata": {},
   "outputs": [
    {
     "name": "stdout",
     "output_type": "stream",
     "text": [
      "Counter({'a': 4, 'c': 2, 'b': 1})\n",
      "4\n"
     ]
    }
   ],
   "source": [
    "from collections import Counter\n",
    "l = ['a', 'a', 'a', 'a', 'b', 'c', 'c']\n",
    "\n",
    "c = Counter(l)\n",
    "print(c)\n",
    "values, counts = zip(*c.most_common())\n",
    "print(counts[0])"
   ]
  },
  {
   "cell_type": "code",
   "execution_count": null,
   "id": "1e1f51b6",
   "metadata": {},
   "outputs": [],
   "source": []
  }
 ],
 "metadata": {
  "kernelspec": {
   "display_name": "Python 3 (ipykernel)",
   "language": "python",
   "name": "python3"
  },
  "language_info": {
   "codemirror_mode": {
    "name": "ipython",
    "version": 3
   },
   "file_extension": ".py",
   "mimetype": "text/x-python",
   "name": "python",
   "nbconvert_exporter": "python",
   "pygments_lexer": "ipython3",
   "version": "3.9.7"
  }
 },
 "nbformat": 4,
 "nbformat_minor": 5
}
