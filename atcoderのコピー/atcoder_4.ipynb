{
 "cells": [
  {
   "cell_type": "code",
   "execution_count": 3,
   "metadata": {},
   "outputs": [
    {
     "name": "stdout",
     "output_type": "stream",
     "text": [
      "Yes\n"
     ]
    }
   ],
   "source": [
    "from collections import deque\n",
    "h, w = map(int, input().split())\n",
    "\n",
    "C = []\n",
    "\n",
    "for _ in range(h):\n",
    "  c = list(input())\n",
    "  C.append(c)\n",
    "\n",
    "for i in range(h):\n",
    "  for j in range(w):\n",
    "    if C[i][j] == 's':\n",
    "      sy = i\n",
    "      sx = j\n",
    "    elif C[i][j] == 'g':\n",
    "      gy = i\n",
    "      gx = j\n",
    "\n",
    "dx = [1, 0, -1, 0]\n",
    "dy = [0, 1, 0, -1]\n",
    "INF = int(1e9)\n",
    "D = [[INF] * w for _ in range(h)]\n",
    "\n",
    "def dfs():\n",
    "  que = deque()\n",
    "  que.append([sy, sx])\n",
    "  D[sy][sx] = 0\n",
    "  while len(que) != 0:\n",
    "    p = que.pop()\n",
    "    if p[1] == gx and p[0] == gy:\n",
    "      break\n",
    "    else:\n",
    "      for i in range(4):\n",
    "        for j in range(4):\n",
    "          nx = p[1] + dx[i]\n",
    "          ny = p[0] + dy[i]\n",
    "\n",
    "          if 0 <= nx < w and 0 <= ny < h and D[ny][nx] == INF and C[ny][nx] != '#':\n",
    "            que.append([ny, nx])\n",
    "            D[ny][nx] = 0\n",
    "  return\n",
    "\n",
    "dfs()\n",
    "if D[gy][gx] == 0:\n",
    "  print('Yes')\n",
    "\n",
    "else:\n",
    "  print('No')\n",
    "\n",
    "  \n"
   ]
  },
  {
   "cell_type": "code",
   "execution_count": 16,
   "metadata": {},
   "outputs": [
    {
     "name": "stdout",
     "output_type": "stream",
     "text": [
      "4\n"
     ]
    }
   ],
   "source": [
    "from collections import deque\n",
    "n, m = map(int, input().split())\n",
    "\n",
    "U = []\n",
    "V = []\n",
    "for _ in range(m):\n",
    "  u, v = map(int, input().split())\n",
    "  U.append(u-1)\n",
    "  V.append(v-1)\n",
    "\n",
    "INF = int(1e9)\n",
    "D = [0] * n\n",
    "def dfs(i):\n",
    "  que = deque()\n",
    "  que.append(i)\n",
    "  flag = True\n",
    "\n",
    "  while len(que) != 0:\n",
    "    p = que.pop()\n",
    "    if D[p] != 0:\n",
    "      flag = False\n",
    "    else:\n",
    "      D[p] = 1\n",
    "      for j in range(m):\n",
    "        if U[j] == p and D[V[j]] == 0:\n",
    "          que.append(V[j])\n",
    "        elif V[j] == p and D[U[j]] == 0:\n",
    "          que.append(U[j])\n",
    "\n",
    "  return flag\n",
    "ans = 0\n",
    "for i in range(n):\n",
    "  if D[i] == 0:\n",
    "    res = dfs(i)\n",
    "    if res:\n",
    "      ans += 1\n",
    "\n",
    "print(ans)\n"
   ]
  },
  {
   "cell_type": "code",
   "execution_count": 18,
   "metadata": {},
   "outputs": [
    {
     "name": "stdout",
     "output_type": "stream",
     "text": [
      "0\n",
      "1\n"
     ]
    }
   ],
   "source": [
    "from collections import deque\n",
    "\n",
    "def dfs(y, x):\n",
    "  C[y][x] = 0\n",
    "  for dx in range(-1, 2):\n",
    "    for dy in range(-1, 2):\n",
    "      nx = x + dx\n",
    "      ny = y + dy\n",
    "\n",
    "      if 0 <= nx < w and 0 <= ny < h and C[ny][nx] == 1:\n",
    "        dfs(ny, nx)\n",
    "\n",
    "while True:\n",
    "  w, h = map(int, input().split())\n",
    "\n",
    "  if w == 0 and h == 0:\n",
    "    break\n",
    "  else:\n",
    "    C = []\n",
    "    for i in range(h):\n",
    "      c = list(map(int, input().split()))\n",
    "      C.append(c)\n",
    "    \n",
    "    ans = 0\n",
    "    for i in range(h):\n",
    "      for j in range(w):\n",
    "        if C[i][j] == 1:\n",
    "          dfs(i, j)\n",
    "          ans += 1\n",
    "  print(ans)\n",
    "\n",
    "\n",
    "\n"
   ]
  },
  {
   "cell_type": "code",
   "execution_count": 5,
   "metadata": {},
   "outputs": [
    {
     "name": "stdout",
     "output_type": "stream",
     "text": [
      "4\n"
     ]
    }
   ],
   "source": [
    "from collections import deque\n",
    "n, m = map(int, input().split())\n",
    "\n",
    "U = []\n",
    "V = []\n",
    "\n",
    "for _ in range(m):\n",
    "  u, v = map(int, input().split())\n",
    "  U.append(u-1)\n",
    "  V.append(v-1)\n",
    "\n",
    "\n",
    "D = [0] * n\n",
    "def dfs(i):\n",
    "  que = deque()\n",
    "  que.append(i)\n",
    "  flag = True\n",
    "\n",
    "  while len(que) != 0:\n",
    "    p = que.pop()\n",
    "    if D[p] != 0:\n",
    "      flag = False\n",
    "    else:\n",
    "      D[p] = 1\n",
    "      for j in range(m):\n",
    "        if p == U[j] and D[V[j]] == 0:\n",
    "          que.append(V[j])\n",
    "        elif p == V[j] and D[U[j]] == 0:\n",
    "          que.append(U[j])\n",
    "  return flag\n",
    "\n",
    "ans = 0\n",
    "for i in range(n):\n",
    "  if D[i] == 0:\n",
    "    if dfs(i):\n",
    "      ans += 1\n",
    "\n",
    "print(ans)\n"
   ]
  },
  {
   "cell_type": "code",
   "execution_count": 8,
   "metadata": {},
   "outputs": [
    {
     "name": "stdout",
     "output_type": "stream",
     "text": [
      "0\n",
      "1\n"
     ]
    }
   ],
   "source": [
    "def dfs(y, x):\n",
    "  C[y][x] = 0\n",
    "  for dx in range(-1, 2):\n",
    "    for dy in range(-1, 2):\n",
    "      nx = x + dx\n",
    "      ny = y + dy\n",
    "\n",
    "      if 0 <= nx < w and 0 <= ny < h and C[ny][nx] == 1:\n",
    "        dfs(ny, nx)\n",
    "  return\n",
    "\n",
    "while True:\n",
    "  w, h = map(int, input().split())\n",
    "  C = []\n",
    "  if w == 0 and h == 0:\n",
    "    break\n",
    "  for i in range(h):\n",
    "    c = list(map(int, input().split()))\n",
    "    C.append(c)\n",
    "\n",
    "  ans = 0\n",
    "  for i in range(h):\n",
    "    for j in range(w):\n",
    "      if C[i][j] == 1:\n",
    "        dfs(i, j)\n",
    "        ans += 1\n",
    "  print(ans)\n"
   ]
  },
  {
   "cell_type": "code",
   "execution_count": 18,
   "metadata": {},
   "outputs": [
    {
     "name": "stdout",
     "output_type": "stream",
     "text": [
      "[[1000000000, 1000000000, 1000000000, 1000000000, 1000000000, 1000000000, 1000000000, 1000000000], [1000000000, 0, 1, 2, 3, 4, 5, 1000000000], [1000000000, 1, 1000000000, 1000000000, 1000000000, 1000000000, 1000000000, 1000000000], [1000000000, 2, 3, 1000000000, 11, 10, 11, 1000000000], [1000000000, 3, 4, 1000000000, 1000000000, 9, 10, 1000000000], [1000000000, 1000000000, 5, 6, 7, 8, 9, 1000000000], [1000000000, 1000000000, 1000000000, 1000000000, 1000000000, 1000000000, 1000000000, 1000000000]]\n",
      "11\n"
     ]
    }
   ],
   "source": [
    "from collections import deque\n",
    "r, C = map(int, input().split())\n",
    "sy, sx = map(int, input().split())\n",
    "gy, gx = map(int, input().split())\n",
    "c = []\n",
    "\n",
    "for _ in range(r):\n",
    "  c_ = input()\n",
    "  c.append(c_)\n",
    "\n",
    "sy -= 1\n",
    "sx -= 1\n",
    "gy -= 1\n",
    "gx -= 1\n",
    "\n",
    "INF = int(1e9)\n",
    "D = [[INF] * C for _ in range(r)]\n",
    "dx = [1, 0, -1, 0]\n",
    "dy = [0, 1, 0, -1]\n",
    "def bfs():\n",
    "  que = deque()\n",
    "  que.append([sy, sx])\n",
    "  D[sy][sx] = 0\n",
    "  while len(que) != 0:\n",
    "    p = que.pop()\n",
    "    if p[0] == gy and p[1] == gx:\n",
    "      break\n",
    "    else:\n",
    "      for i in range(4):\n",
    "        nx = p[1] + dx[i]\n",
    "        ny = p[0] + dy[i]\n",
    "\n",
    "        if 0 <= nx < C and 0 <= ny < r and c[ny][nx] != '#' and D[ny][nx] == INF:\n",
    "          que.appendleft([ny, nx])\n",
    "          D[ny][nx] = D[p[0]][p[1]] + 1\n",
    "\n",
    "  return\n",
    "\n",
    "bfs()\n",
    "print(D[gy][gx])\n"
   ]
  },
  {
   "cell_type": "code",
   "execution_count": 9,
   "metadata": {},
   "outputs": [
    {
     "name": "stdout",
     "output_type": "stream",
     "text": [
      "12\n"
     ]
    }
   ],
   "source": [
    "from collections import deque\n",
    "h, w, n = map(int,input().split())\n",
    "C = []\n",
    "for _ in range(h):\n",
    "  c = list(input())\n",
    "  C.append(c)\n",
    "\n",
    "for i in range(h):\n",
    "  for j in range(w):\n",
    "    if C[i][j] == 'S':\n",
    "      C[i][j] = '0'\n",
    "\n",
    "dx = [1, 0, -1, 0]\n",
    "dy = [0, 1, 0, -1]\n",
    "\n",
    "def bfs(i):\n",
    "  INF = int(1e9)\n",
    "  D = [[INF] * w for _ in range(h)]\n",
    "  for j in range(h):\n",
    "    for k in range(w):\n",
    "      if C[j][k] == str(i):\n",
    "        sx = k\n",
    "        sy = j\n",
    "      if C[j][k] == str(i+1):\n",
    "        gx = k\n",
    "        gy = j\n",
    "  que = deque()\n",
    "  que.append([sy, sx])\n",
    "  D[sy][sx] = 0\n",
    "  while len(que) != 0:\n",
    "    p = que.pop()\n",
    "    if p[0] ==  gy and p[1] == gx:\n",
    "      break\n",
    "    else:\n",
    "      for j in range(4):\n",
    "        nx = p[1] + dx[j]\n",
    "        ny = p[0] + dy[j]\n",
    "        if 0 <= nx < w and 0 <= ny < h and C[ny][nx] != 'X' and D[ny][nx] == INF:\n",
    "          que.appendleft([ny, nx])\n",
    "          D[ny][nx] = D[p[0]][p[1]] + 1\n",
    "  return D[gy][gx]\n",
    "\n",
    "ans = 0\n",
    "for i in range(n):\n",
    "  ans += bfs(i)\n",
    "\n",
    "print(ans)"
   ]
  },
  {
   "cell_type": "code",
   "execution_count": 16,
   "metadata": {},
   "outputs": [
    {
     "name": "stdout",
     "output_type": "stream",
     "text": [
      "4\n",
      "2\n"
     ]
    }
   ],
   "source": [
    "from collections import deque\n",
    "h, w = map(int, input().split())\n",
    "S = []\n",
    "for _ in range(h):\n",
    "  s = list(input())\n",
    "  S.append(s)\n",
    "\n",
    "sx = 0\n",
    "sy = 0\n",
    "\n",
    "gx = w-1\n",
    "gy = h-1\n",
    "\n",
    "black = 0\n",
    "for i in range(h):\n",
    "  for j in range(w):\n",
    "    if S[i][j] == '#':\n",
    "      black += 1\n",
    "\n",
    "INF = int(1e9)\n",
    "D = [[INF] * w for _ in range(h)]\n",
    "\n",
    "dx = [1, 0, -1, 0]\n",
    "dy = [0, 1, 0, -1]\n",
    "def bfs():\n",
    "  que = deque()\n",
    "  que.append([sy, sx])\n",
    "  D[sy][sx] = 0\n",
    "  while len(que) != 0:\n",
    "    p = que.pop()\n",
    "    if p[1] == gx and p[0] == gy:\n",
    "      break\n",
    "    else:\n",
    "      for i in range(4):\n",
    "        nx = p[1] + dx[i]\n",
    "        ny = p[0] + dy[i]\n",
    "        if 0 <= nx < w and 0 <= ny < h and S[ny][nx] != '#' and D[ny][nx] == INF:\n",
    "          que.appendleft([ny, nx])\n",
    "          D[ny][nx] = D[p[0]][p[1]] + 1\n",
    "\n",
    "  return D[gy][gx]\n",
    "\n",
    "res = bfs()\n",
    "if res == INF:\n",
    "  print(-1)\n",
    "else:\n",
    "  print(h*w - res - 1 - black)"
   ]
  },
  {
   "cell_type": "code",
   "execution_count": 18,
   "metadata": {},
   "outputs": [
    {
     "name": "stdout",
     "output_type": "stream",
     "text": [
      "abcabc\n"
     ]
    }
   ],
   "source": [
    "s = input()\n",
    "\n",
    "if len(s) == 1:\n",
    "  print(s*6)\n",
    "elif len(s) == 2:\n",
    "  print(s*3)\n",
    "elif len(s) == 3:\n",
    "  print(s*2)"
   ]
  },
  {
   "cell_type": "code",
   "execution_count": 27,
   "metadata": {},
   "outputs": [
    {
     "name": "stdout",
     "output_type": "stream",
     "text": [
      "48\n"
     ]
    }
   ],
   "source": [
    "n, w = map(int, input().split())\n",
    "\n",
    "A = list(map(int, input().split()))\n",
    "\n",
    "ans = []\n",
    "for a in A:\n",
    "  if a <= w:\n",
    "    ans.append(a)\n",
    "if len(A) >=2:\n",
    "  for i in range(len(A)-1):\n",
    "    for j in range(i+1, len(A)):\n",
    "      if A[i] + A[j] <= w:\n",
    "        ans.append(A[i] + A[j])\n",
    "if len(A) >= 3:\n",
    "  for i in range(len(A)-2):\n",
    "    for j in range(i+1, len(A)-1):\n",
    "      for k in range(j+1, len(A)):\n",
    "        if A[i] + A[j] + A[k] <= w:\n",
    "          ans.append(A[i] + A[j] + A[k])\n",
    "\n",
    "ans = list(set(ans))\n",
    "print(len(ans))"
   ]
  },
  {
   "cell_type": "code",
   "execution_count": 2,
   "metadata": {},
   "outputs": [
    {
     "name": "stdout",
     "output_type": "stream",
     "text": [
      "bbb\n",
      "20\n",
      "2\n"
     ]
    }
   ],
   "source": [
    "n = int(input())\n",
    "\n",
    "S = []\n",
    "T = []\n",
    "for _ in range(n):\n",
    "  s, t = map(str, input().split())\n",
    "  S.append(s)\n",
    "  T.append(t)\n",
    "\n",
    "T = [int(x) for x in T]\n",
    "\n",
    "d = {}\n",
    "for i in range(n-1, -1, -1):\n",
    "  d[S[i]] = T[i]\n",
    "\n",
    "max_kv = max(d.items(), key=lambda x: x[1])\n",
    "\n",
    "for i in range(n):\n",
    "  if S[i] == max_kv[0] and T[i] == max_kv[1]:\n",
    "    print(i+1)\n",
    "    break\n"
   ]
  },
  {
   "cell_type": "code",
   "execution_count": 5,
   "metadata": {},
   "outputs": [
    {
     "name": "stdout",
     "output_type": "stream",
     "text": [
      "1000\n",
      "334 333 333 333 332 332 332 331 331 331 330 330 330 329 329 329 328 328 328 327 327 327 326 326 326 325 325 325 324 324 324 323 323 323 322 322 322 321 321 321 320 320 320 319 319 319 318 318 318 317 317 317 316 316 316 315 315 315 314 314 314 313 313 313 312 312 312 311 311 311 310 310 310 309 309 309 308 308 308 307 307 307 306 306 306 305 305 305 304 304 304 303 303 303 302 302 302 301 301 301 300 300 300 299 299 299 298 298 298 297 297 297 296 296 296 295 295 295 294 294 294 293 293 293 292 292 292 291 291 291 290 290 290 289 289 289 288 288 288 287 287 287 286 286 286 285 285 285 284 284 284 283 283 283 282 282 282 281 281 281 280 280 280 279 279 279 278 278 278 277 277 277 276 276 276 275 275 275 274 274 274 273 273 273 272 272 272 271 271 271 270 270 270 269 269 269 268 268 268 267 267 267 266 266 266 265 265 265 264 264 264 263 263 263 262 262 262 261 261 261 260 260 260 259 259 259 258 258 258 257 257 257 256 256 256 255 255 255 254 254 254 253 253 253 252 252 252 251 251 251 250 250 250 249 249 249 248 248 248 247 247 247 246 246 246 245 245 245 244 244 244 243 243 243 242 242 242 241 241 241 240 240 240 239 239 239 238 238 238 237 237 237 236 236 236 235 235 235 234 234 234 233 233 233 232 232 232 231 231 231 230 230 230 229 229 229 228 228 228 227 227 227 226 226 226 225 225 225 224 224 224 223 223 223 222 222 222 221 221 221 220 220 220 219 219 219 218 218 218 217 217 217 216 216 216 215 215 215 214 214 214 213 213 213 212 212 212 211 211 211 210 210 210 209 209 209 208 208 208 207 207 207 206 206 206 205 205 205 204 204 204 203 203 203 202 202 202 201 201 201 200 200 200 199 199 199 198 198 198 197 197 197 196 196 196 195 195 195 194 194 194 193 193 193 192 192 192 191 191 191 190 190 190 189 189 189 188 188 188 187 187 187 186 186 186 185 185 185 184 184 184 183 183 183 182 182 182 181 181 181 180 180 180 179 179 179 178 178 178 177 177 177 176 176 176 175 175 175 174 174 174 173 173 173 172 172 172 171 171 171 170 170 170 169 169 169 168 168 168 167 167 167 166 166 166 165 165 165 164 164 164 163 163 163 162 162 162 161 161 161 160 160 160 159 159 159 158 158 158 157 157 157 156 156 156 155 155 155 154 154 154 153 153 153 152 152 152 151 151 151 150 150 150 149 149 149 148 148 148 147 147 147 146 146 146 145 145 145 144 144 144 143 143 143 142 142 142 141 141 141 140 140 140 139 139 139 138 138 138 137 137 137 136 136 136 135 135 135 134 134 134 133 133 133 132 132 132 131 131 131 130 130 130 129 129 129 128 128 128 127 127 127 126 126 126 125 125 125 124 124 124 123 123 123 122 122 122 121 121 121 120 120 120 119 119 119 118 118 118 117 117 117 116 116 116 115 115 115 114 114 114 113 113 113 112 112 112 111 111 111 110 110 110 109 109 109 108 108 108 107 107 107 106 106 106 105 105 105 104 104 104 103 103 103 102 102 102 101 101 101 100 100 100 99 99 99 98 98 98 97 97 97 96 96 96 95 95 95 94 94 94 93 93 93 92 92 92 91 91 91 90 90 90 89 89 89 88 88 88 87 87 87 86 86 86 85 85 85 84 84 84 83 83 83 82 82 82 81 81 81 80 80 80 79 79 79 78 78 78 77 77 77 76 76 76 75 75 75 74 74 74 73 73 73 72 72 72 71 71 71 70 70 70 69 69 69 68 68 68 67 67 67 66 66 66 65 65 65 64 64 64 63 63 63 62 62 62 61 61 61 60 60 60 59 59 59 58 58 58 57 57 57 56 56 56 55 55 55 54 54 54 53 53 53 52 52 52 51 51 51 50 50 50 49 49 49 48 48 48 47 47 47 46 46 46 45 45 45 44 44 44 43 43 43 42 42 42 41 41 41 40 40 40 39 39 39 38 38 38 37 37 37 36 36 36 35 35 35 34 34 34 33 33 33 32 32 32 31 31 31 30 30 30 29 29 29 28 28 28 27 27 27 26 26 26 25 25 25 24 24 24 23 23 23 22 22 22 21 21 21 20 20 20 19 19 19 18 18 18 17 17 17 16 16 16 15 15 15 14 14 14 13 13 13 12 12 12 11 11 11 10 10 10 9 9 9 8 8 8 7 7 7 6 6 6 5 5 5 4 4 4 3 3 3 2 2 2 1 1 1\n"
     ]
    }
   ],
   "source": [
    "n = int(input())\n",
    "\n",
    "num_list = []\n",
    "num_list.append(1)\n",
    "if n == 1:\n",
    "  print(1)\n",
    "  print(*num_list)\n",
    "  exit()\n",
    "num_list.append(1)\n",
    "\n",
    "k = 2\n",
    "while True:\n",
    "  if k == n:\n",
    "    break\n",
    "  else:\n",
    "    k += 1\n",
    "    if k == 3:\n",
    "      num_list.append(1)\n",
    "    else:\n",
    "      flag = False\n",
    "      for i in range(len(num_list)-1):\n",
    "        for j in range(i+1, len(num_list)):\n",
    "          if k == num_list[i] + num_list[j]:\n",
    "            flag = True\n",
    "            break\n",
    "        if flag:\n",
    "          break\n",
    "      if flag == False:\n",
    "        for i in range\n",
    "\n",
    "    \n",
    "print(len(num_list))\n",
    "print(*num_list)"
   ]
  },
  {
   "cell_type": "code",
   "execution_count": 6,
   "metadata": {},
   "outputs": [
    {
     "name": "stdout",
     "output_type": "stream",
     "text": [
      "2\n"
     ]
    }
   ],
   "source": [
    "import itertools\n",
    "n, m = map(int, input().split())\n",
    "\n",
    "graph = [[0] * n for _ in range(n)]\n",
    "for _ in range(m):\n",
    "  a, b = map(int, input().split())\n",
    "  a -= 1\n",
    "  b -= 1\n",
    "  graph[a][b] = 1\n",
    "  graph[b][a] = 1\n",
    "\n",
    "ans = 0\n",
    "for num in itertools.permutations(range(n)):\n",
    "  if num[0] == 0:\n",
    "    count = 0\n",
    "    for i in range(n-1):\n",
    "      if graph[num[i]][num[i+1]] == 1:\n",
    "        count += 1\n",
    "    if count == n-1:\n",
    "      ans += 1\n",
    "print(ans)"
   ]
  },
  {
   "cell_type": "code",
   "execution_count": 9,
   "metadata": {},
   "outputs": [
    {
     "name": "stdout",
     "output_type": "stream",
     "text": [
      "2\n"
     ]
    }
   ],
   "source": [
    "import itertools \n",
    "n, m = map(int, input().split())\n",
    "graph = [[0] * n for _ in range(n)]\n",
    "\n",
    "for _ in range(m):\n",
    "  a, b = map(int, input().split())\n",
    "  a -= 1\n",
    "  b -= 1\n",
    "  graph[a][b] = 1\n",
    "  graph[b][a] = 1\n",
    "\n",
    "ans = 0\n",
    "for num in itertools.permutations(range(n)):\n",
    "  if num[0] == 0:\n",
    "    count = 0\n",
    "    for i in range(n-1):\n",
    "      if graph[num[i]][num[i+1]] == 1:\n",
    "        count += 1\n",
    "    \n",
    "    if count == n-1:\n",
    "      ans += 1\n",
    "print(ans)"
   ]
  },
  {
   "cell_type": "code",
   "execution_count": 10,
   "metadata": {},
   "outputs": [
    {
     "name": "stdout",
     "output_type": "stream",
     "text": [
      "0\n"
     ]
    }
   ],
   "source": [
    "s = list(input())\n",
    "\n",
    "s = list(set(s))\n",
    "\n",
    "s = [int(x) for x in s]\n",
    "\n",
    "for i in range(10):\n",
    "  if i not in s:\n",
    "    print(i)\n",
    "    break"
   ]
  },
  {
   "cell_type": "code",
   "execution_count": 12,
   "metadata": {},
   "outputs": [
    {
     "name": "stdout",
     "output_type": "stream",
     "text": [
      "0\n"
     ]
    }
   ],
   "source": [
    "a, b, k = map(int, input().split())\n",
    "\n",
    "step = 0\n",
    "while a < b:\n",
    "  a = a * k\n",
    "  step += 1\n",
    "\n",
    "print(step)"
   ]
  },
  {
   "cell_type": "code",
   "execution_count": 1,
   "metadata": {},
   "outputs": [
    {
     "name": "stdout",
     "output_type": "stream",
     "text": [
      "30\n"
     ]
    }
   ],
   "source": [
    "n = int(input())\n",
    "h = list(map(int, input().split()))\n",
    "\n",
    "dp = [0]*n\n",
    "\n",
    "dp[0] = 0\n",
    "dp[1] = abs(h[1]-h[0])\n",
    "\n",
    "for i in range(2, n):\n",
    "  dp[i] = min(dp[i-2]+abs(h[i]-h[i-2]), dp[i-1]+abs(h[i]-h[i-1]))\n",
    "\n",
    "print(dp[-1])"
   ]
  },
  {
   "cell_type": "code",
   "execution_count": null,
   "metadata": {},
   "outputs": [],
   "source": [
    "n, m, K = map(int, input().split())\n",
    "\n",
    "MOD = 998244353\n",
    "dp = [[0 for _ in range(K+1)] for _ in range(n+1)]\n",
    "dp[0][0] = 1\n",
    "for i in range(n):\n",
    "  for j in range(K+1):\n",
    "    for k in range(1, m+1):\n",
    "      if j+k > K:\n",
    "        continue\n",
    "      dp[i+1][j+k] += dp[i][j]\n",
    "      dp[i+1][j+k] %= MOD\n",
    "\n",
    "print(sum(dp[-1]) % MOD)"
   ]
  },
  {
   "cell_type": "code",
   "execution_count": 2,
   "metadata": {},
   "outputs": [
    {
     "name": "stdout",
     "output_type": "stream",
     "text": [
      "0.0425531914893617\n"
     ]
    }
   ],
   "source": [
    "a, b, c, x = map(int, input().split())\n",
    "\n",
    "if x <= a:\n",
    "  print(1)\n",
    "\n",
    "elif a + 1 <= x <= b:\n",
    "  print(c/(b-a))\n",
    "elif b+1 <= x:\n",
    "  print(0)"
   ]
  },
  {
   "cell_type": "code",
   "execution_count": 5,
   "metadata": {},
   "outputs": [
    {
     "name": "stdout",
     "output_type": "stream",
     "text": [
      "zzzz\n"
     ]
    }
   ],
   "source": [
    "s = list(input())\n",
    "\n",
    "s.sort()\n",
    "\n",
    "ans = ''\n",
    "for s_ in s:\n",
    "  ans += s_\n",
    "\n",
    "print(ans)"
   ]
  },
  {
   "cell_type": "code",
   "execution_count": 12,
   "metadata": {},
   "outputs": [
    {
     "name": "stdout",
     "output_type": "stream",
     "text": [
      "203\n"
     ]
    }
   ],
   "source": [
    "n = int(input())\n",
    "\n",
    "MOD = 998244353\n",
    "\n",
    "dp = [[0] * 10 for _ in range(n+1)]\n",
    "\n",
    "for i in range(1, 10):\n",
    "  dp[1][i] = 1\n",
    "\n",
    "for d in range(2, n+1):\n",
    "  for i in range(1, 10):\n",
    "    if i == 1:\n",
    "      dp[d][i] = dp[d-1][i] + dp[d-1][i+1]\n",
    "    elif 2 <= i <= 8:\n",
    "      dp[d][i] = dp[d-1][i-1] + dp[d-1][i] + dp[d-1][i+1]\n",
    "    elif i == 9:\n",
    "      dp[d][i] = dp[d-1][i-1] + dp[d-1][i]\n",
    "\n",
    "    dp[d][i] = dp[d][i] % MOD\n",
    "\n",
    "ans = sum(dp[n]) % MOD\n",
    "\n",
    "print(ans)"
   ]
  },
  {
   "cell_type": "code",
   "execution_count": null,
   "metadata": {},
   "outputs": [],
   "source": [
    "#https://qiita.com/kani_kani_kani/items/b668a9187a52439cde9c\n",
    "n, m, K = map(int, input().split())\n",
    "\n",
    "MOD = 998244353\n",
    "\n",
    "dp = [[0 for _ in range(K+1)] for _ in range(n+1) ]\n",
    "\n",
    "dp[0][0] = 1\n",
    "\n",
    "for i in range(n):\n",
    "  for j in range(K+1):\n",
    "    for k in range(1, m+1):\n",
    "      if j + k > K:\n",
    "        continue\n",
    "      dp[i+1][j+k] += dp[i][j]\n",
    "      dp[i+1][j+k] %= MOD"
   ]
  },
  {
   "cell_type": "code",
   "execution_count": 9,
   "metadata": {},
   "outputs": [
    {
     "name": "stdout",
     "output_type": "stream",
     "text": [
      "2\n"
     ]
    }
   ],
   "source": [
    "from collections import deque\n",
    "n, m = map(int, input().split())\n",
    "Map = []\n",
    "for _ in range(n):\n",
    "  Map.append(list(input()))\n",
    "\n",
    "for i in range(n):\n",
    "  for j in range(m):\n",
    "    if Map[i][j] == 'H':\n",
    "      sx = j\n",
    "      sy = i\n",
    "    elif Map[i][j] == 'S':\n",
    "      gx = j\n",
    "      gy = i\n",
    "INF = int(1e9)\n",
    "D = [[INF] * m for _ in range(n)]\n",
    "dx = [1, 0, -1, 0]\n",
    "dy = [0, 1, 0, -1]\n",
    "def dfs():\n",
    "  que = deque()\n",
    "  que.append([sy, sx])\n",
    "  D[sy][sx] = 0\n",
    "  ans = 0\n",
    "  while len(que) != 0:\n",
    "      p = que.pop()\n",
    "      if p[0] == gy and p[1] == gx:\n",
    "          ans += 1\n",
    "          que.clear()\n",
    "          dfs()\n",
    "      for i in range(4):\n",
    "          nx = p[1] + dx[i]\n",
    "          ny = p[0] + dy[i]\n",
    "          if 0 <= nx < m and 0 <= ny < n and Map[ny][nx] != '#' and D[ny][nx] == INF:\n",
    "              que.append([ny, nx])\n",
    "              if not (ny == gy and nx == gx):\n",
    "                D[ny][nx] = 0\n",
    "              elif ny == gy and nx == gx:\n",
    "                Map[p[0]][p[1]] = '#'\n",
    "  return ans\n",
    "ans = dfs()\n",
    "print(ans)"
   ]
  },
  {
   "cell_type": "code",
   "execution_count": 6,
   "metadata": {},
   "outputs": [
    {
     "ename": "SyntaxError",
     "evalue": "invalid syntax (3727428594.py, line 1)",
     "output_type": "error",
     "traceback": [
      "\u001b[0;36m  File \u001b[0;32m\"/var/folders/dk/82s_y4sn7nld93yfn_c7zxj40000gn/T/ipykernel_57564/3727428594.py\"\u001b[0;36m, line \u001b[0;32m1\u001b[0m\n\u001b[0;31m    H....\u001b[0m\n\u001b[0m     ^\u001b[0m\n\u001b[0;31mSyntaxError\u001b[0m\u001b[0;31m:\u001b[0m invalid syntax\n"
     ]
    }
   ],
   "source": [
    "H....\n",
    ".###.\n",
    "...#.\n",
    ".#.#.\n",
    "....S"
   ]
  },
  {
   "cell_type": "code",
   "execution_count": 14,
   "metadata": {},
   "outputs": [
    {
     "name": "stdout",
     "output_type": "stream",
     "text": [
      "D [100, 50]\n",
      "S [5, 2]\n",
      "p [700, 300]\n",
      "\n",
      "T [13, 12, 11]\n",
      "DO [100, 100, 100]\n",
      "N [4, 2, 1]\n",
      "received order 13 100\n",
      "received order 13 100\n",
      "received order 13 100\n",
      "received order 13 100\n",
      "sold out 12\n",
      "received order 11 100\n"
     ]
    }
   ],
   "source": [
    "m = int(input())\n",
    "D = []\n",
    "S = []\n",
    "P = []\n",
    "\n",
    "for _ in range(m):\n",
    "  d, s, p = map(int, input().split())\n",
    "  D.append(d)\n",
    "  S.append(s)\n",
    "  P.append(p)\n",
    "T = []\n",
    "DO = []\n",
    "N = []\n",
    "\n",
    "\n",
    "for _ in range(3):\n",
    "  _, t, d_, n = map(str, input().split())\n",
    "  T.append(int(t))\n",
    "  DO.append(int(d_))\n",
    "  N.append(int(n))\n",
    "\n",
    "for i in range(len(T)):\n",
    "  menu_index = D.index(DO[i])\n",
    "  if N[i] <= S[menu_index]:\n",
    "    S[menu_index] -= N[i]\n",
    "    for _ in range(N[i]):\n",
    "      print('received order', T[i], DO[i])\n",
    "  elif N[i] > S[menu_index]:\n",
    "    print('sold out', T[i])"
   ]
  },
  {
   "cell_type": "code",
   "execution_count": null,
   "metadata": {},
   "outputs": [],
   "source": [
    "1\n",
    "2\n",
    "100 5 700\n",
    "50 2 300\n",
    "order 13 100 4\n",
    "order 12 100 2\n",
    "order 11 100 1"
   ]
  },
  {
   "cell_type": "code",
   "execution_count": 31,
   "metadata": {},
   "outputs": [
    {
     "name": "stdout",
     "output_type": "stream",
     "text": [
      "100\n",
      "unexpected input\n",
      "['100']\n",
      "100\n",
      "wait\n",
      "ok 101\n",
      "['100', '101']\n",
      "ok\n",
      "['100', '101']\n"
     ]
    }
   ],
   "source": [
    "from collections import deque\n",
    "m, k = map(int, input().split())\n",
    "List = []\n",
    "for i in range(6):\n",
    "  List.append(list(map(str,input().split())))\n",
    "\n",
    "renge = []\n",
    "order = []\n",
    "for (i, l) in enumerate(List):\n",
    "  if l[0] == 'received':\n",
    "    if len(renge) == k:\n",
    "      order.append(l[3])\n",
    "      print('wait')\n",
    "    elif len(renge) < k:\n",
    "      renge.append(l[3])\n",
    "      print(l[3])\n",
    "  elif l[0] == 'complete':\n",
    "    if l[1] not in renge:\n",
    "      print('unexpected input')\n",
    "    elif l[1] in renge and len(order) >= 1:\n",
    "      print('ok', order[0])\n",
    "      renge.remove(l[1])\n",
    "      renge.append(order[0])\n",
    "      del order[0]\n",
    "    elif l[1] in renge and len(order) == 0:\n",
    "      print('ok')"
   ]
  },
  {
   "cell_type": "code",
   "execution_count": null,
   "metadata": {},
   "outputs": [],
   "source": [
    "2\n",
    "2 2\n",
    "100 5 700\n",
    "101 5 300\n",
    "received order 10 100\n",
    "complete 101\n",
    "received order 11 100\n",
    "received order 12 101\n",
    "complete 100\n",
    "complete 101"
   ]
  },
  {
   "cell_type": "code",
   "execution_count": 33,
   "metadata": {},
   "outputs": [
    {
     "name": "stdout",
     "output_type": "stream",
     "text": [
      "a\n"
     ]
    }
   ],
   "source": [
    "n = int(input())\n",
    "\n",
    "Str = 'abcdefghijklmnopqrstuvwxyz'\n",
    "List = list(Str)\n",
    "\n",
    "print(List[n-97])"
   ]
  },
  {
   "cell_type": "code",
   "execution_count": 3,
   "metadata": {},
   "outputs": [
    {
     "name": "stdout",
     "output_type": "stream",
     "text": [
      "No\n"
     ]
    }
   ],
   "source": [
    "n, k = map(int, input().split())\n",
    "\n",
    "A = list(map(int, input().split()))\n",
    "\n",
    "B = list(map(int, input().split()))\n",
    "\n",
    "max_A = max(A)\n",
    "\n",
    "flag = True\n",
    "for b in B:\n",
    "  if A[b-1] == max_A:\n",
    "    print('Yes')\n",
    "    flag = False\n",
    "    break\n",
    "if flag:\n",
    "  print('No')\n"
   ]
  },
  {
   "cell_type": "code",
   "execution_count": 2,
   "metadata": {},
   "outputs": [
    {
     "ename": "KeyboardInterrupt",
     "evalue": "Interrupted by user",
     "output_type": "error",
     "traceback": [
      "\u001b[0;31m---------------------------------------------------------------------------\u001b[0m",
      "\u001b[0;31mKeyboardInterrupt\u001b[0m                         Traceback (most recent call last)",
      "\u001b[0;32m/var/folders/dk/82s_y4sn7nld93yfn_c7zxj40000gn/T/ipykernel_60711/870226784.py\u001b[0m in \u001b[0;36m<module>\u001b[0;34m\u001b[0m\n\u001b[1;32m      2\u001b[0m \u001b[0mS\u001b[0m \u001b[0;34m=\u001b[0m \u001b[0;34m[\u001b[0m\u001b[0;34m]\u001b[0m\u001b[0;34m\u001b[0m\u001b[0;34m\u001b[0m\u001b[0m\n\u001b[1;32m      3\u001b[0m \u001b[0;32mfor\u001b[0m \u001b[0m_\u001b[0m \u001b[0;32min\u001b[0m \u001b[0mrange\u001b[0m\u001b[0;34m(\u001b[0m\u001b[0mn\u001b[0m\u001b[0;34m)\u001b[0m\u001b[0;34m:\u001b[0m\u001b[0;34m\u001b[0m\u001b[0;34m\u001b[0m\u001b[0m\n\u001b[0;32m----> 4\u001b[0;31m   \u001b[0ms\u001b[0m \u001b[0;34m=\u001b[0m \u001b[0mlist\u001b[0m\u001b[0;34m(\u001b[0m\u001b[0minput\u001b[0m\u001b[0;34m(\u001b[0m\u001b[0;34m)\u001b[0m\u001b[0;34m)\u001b[0m\u001b[0;34m\u001b[0m\u001b[0;34m\u001b[0m\u001b[0m\n\u001b[0m\u001b[1;32m      5\u001b[0m   \u001b[0ms\u001b[0m \u001b[0;34m=\u001b[0m \u001b[0;34m[\u001b[0m\u001b[0mint\u001b[0m\u001b[0;34m(\u001b[0m\u001b[0mx\u001b[0m\u001b[0;34m)\u001b[0m \u001b[0;32mfor\u001b[0m \u001b[0mx\u001b[0m \u001b[0;32min\u001b[0m \u001b[0ms\u001b[0m\u001b[0;34m]\u001b[0m\u001b[0;34m\u001b[0m\u001b[0;34m\u001b[0m\u001b[0m\n\u001b[1;32m      6\u001b[0m   \u001b[0mS\u001b[0m\u001b[0;34m.\u001b[0m\u001b[0mappend\u001b[0m\u001b[0;34m(\u001b[0m\u001b[0ms\u001b[0m\u001b[0;34m)\u001b[0m\u001b[0;34m\u001b[0m\u001b[0;34m\u001b[0m\u001b[0m\n",
      "\u001b[0;32m~/opt/anaconda3/lib/python3.9/site-packages/ipykernel/kernelbase.py\u001b[0m in \u001b[0;36mraw_input\u001b[0;34m(self, prompt)\u001b[0m\n\u001b[1;32m   1004\u001b[0m                 \u001b[0;34m\"raw_input was called, but this frontend does not support input requests.\"\u001b[0m\u001b[0;34m\u001b[0m\u001b[0;34m\u001b[0m\u001b[0m\n\u001b[1;32m   1005\u001b[0m             )\n\u001b[0;32m-> 1006\u001b[0;31m         return self._input_request(\n\u001b[0m\u001b[1;32m   1007\u001b[0m             \u001b[0mstr\u001b[0m\u001b[0;34m(\u001b[0m\u001b[0mprompt\u001b[0m\u001b[0;34m)\u001b[0m\u001b[0;34m,\u001b[0m\u001b[0;34m\u001b[0m\u001b[0;34m\u001b[0m\u001b[0m\n\u001b[1;32m   1008\u001b[0m             \u001b[0mself\u001b[0m\u001b[0;34m.\u001b[0m\u001b[0m_parent_ident\u001b[0m\u001b[0;34m[\u001b[0m\u001b[0;34m\"shell\"\u001b[0m\u001b[0;34m]\u001b[0m\u001b[0;34m,\u001b[0m\u001b[0;34m\u001b[0m\u001b[0;34m\u001b[0m\u001b[0m\n",
      "\u001b[0;32m~/opt/anaconda3/lib/python3.9/site-packages/ipykernel/kernelbase.py\u001b[0m in \u001b[0;36m_input_request\u001b[0;34m(self, prompt, ident, parent, password)\u001b[0m\n\u001b[1;32m   1049\u001b[0m             \u001b[0;32mexcept\u001b[0m \u001b[0mKeyboardInterrupt\u001b[0m\u001b[0;34m:\u001b[0m\u001b[0;34m\u001b[0m\u001b[0;34m\u001b[0m\u001b[0m\n\u001b[1;32m   1050\u001b[0m                 \u001b[0;31m# re-raise KeyboardInterrupt, to truncate traceback\u001b[0m\u001b[0;34m\u001b[0m\u001b[0;34m\u001b[0m\u001b[0m\n\u001b[0;32m-> 1051\u001b[0;31m                 \u001b[0;32mraise\u001b[0m \u001b[0mKeyboardInterrupt\u001b[0m\u001b[0;34m(\u001b[0m\u001b[0;34m\"Interrupted by user\"\u001b[0m\u001b[0;34m)\u001b[0m \u001b[0;32mfrom\u001b[0m \u001b[0;32mNone\u001b[0m\u001b[0;34m\u001b[0m\u001b[0;34m\u001b[0m\u001b[0m\n\u001b[0m\u001b[1;32m   1052\u001b[0m             \u001b[0;32mexcept\u001b[0m \u001b[0mException\u001b[0m\u001b[0;34m:\u001b[0m\u001b[0;34m\u001b[0m\u001b[0;34m\u001b[0m\u001b[0m\n\u001b[1;32m   1053\u001b[0m                 \u001b[0mself\u001b[0m\u001b[0;34m.\u001b[0m\u001b[0mlog\u001b[0m\u001b[0;34m.\u001b[0m\u001b[0mwarning\u001b[0m\u001b[0;34m(\u001b[0m\u001b[0;34m\"Invalid Message:\"\u001b[0m\u001b[0;34m,\u001b[0m \u001b[0mexc_info\u001b[0m\u001b[0;34m=\u001b[0m\u001b[0;32mTrue\u001b[0m\u001b[0;34m)\u001b[0m\u001b[0;34m\u001b[0m\u001b[0;34m\u001b[0m\u001b[0m\n",
      "\u001b[0;31mKeyboardInterrupt\u001b[0m: Interrupted by user"
     ]
    }
   ],
   "source": [
    "n = int(input())\n",
    "S = []\n",
    "for _ in range(n):\n",
    "  s = list(input())\n",
    "  s = [int(x) for x in s]\n",
    "  S.append(s)\n",
    "\n",
    "MOD = 10\n",
    "INF = int(1e9)\n",
    "time = [INF] * 10\n",
    "flag = [0] * 10\n",
    "\n",
    "\n",
    "F = True\n",
    "for i in range(10):\n",
    "  count = 0\n",
    "  F = True\n",
    "  while F:\n",
    "    for j in range(n):\n",
    "      if S[j][count % MOD] == i:\n",
    "        time[i] = count\n",
    "        flag[i] += 1\n",
    "        S[j][count % MOD] = '#'\n",
    "        if flag[i] == n:\n",
    "          F = False\n",
    "        break\n",
    "    count += 1\n",
    "      \n",
    "print(min(time))\n",
    "\n"
   ]
  },
  {
   "cell_type": "code",
   "execution_count": null,
   "metadata": {},
   "outputs": [],
   "source": []
  }
 ],
 "metadata": {
  "interpreter": {
   "hash": "1176e4068bf541b489961802e9aeafa5203c41a0e9cf852e1d0c305accb63b10"
  },
  "kernelspec": {
   "display_name": "Python 3.9.7 ('base')",
   "language": "python",
   "name": "python3"
  },
  "language_info": {
   "codemirror_mode": {
    "name": "ipython",
    "version": 3
   },
   "file_extension": ".py",
   "mimetype": "text/x-python",
   "name": "python",
   "nbconvert_exporter": "python",
   "pygments_lexer": "ipython3",
   "version": "3.9.7"
  },
  "orig_nbformat": 4
 },
 "nbformat": 4,
 "nbformat_minor": 2
}
